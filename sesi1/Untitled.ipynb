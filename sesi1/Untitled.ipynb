{
 "cells": [
  {
   "cell_type": "code",
   "execution_count": 29,
   "id": "09654219-c970-460d-be0b-7ef22abf7428",
   "metadata": {},
   "outputs": [
    {
     "name": "stdout",
     "output_type": "stream",
     "text": [
      "hello world\n"
     ]
    }
   ],
   "source": [
    "print(\"hello world\")"
   ]
  },
  {
   "cell_type": "code",
   "execution_count": 30,
   "id": "0f4687bd-ee89-47db-af2b-5b90bc767bf5",
   "metadata": {},
   "outputs": [],
   "source": [
    "some_variable = \"my awesome variable\""
   ]
  },
  {
   "cell_type": "code",
   "execution_count": 31,
   "id": "50eb4ecd-e0ee-4bcc-b5bd-d57dc9d51984",
   "metadata": {},
   "outputs": [
    {
     "name": "stdout",
     "output_type": "stream",
     "text": [
      "my awesome variable\n"
     ]
    }
   ],
   "source": [
    "print(some_variable)"
   ]
  },
  {
   "cell_type": "code",
   "execution_count": 32,
   "id": "d62e01fe-e1a3-41cb-861a-95d6b2e7b5ef",
   "metadata": {},
   "outputs": [
    {
     "name": "stdout",
     "output_type": "stream",
     "text": [
      "123\n"
     ]
    }
   ],
   "source": [
    "# integer\n",
    "my_integer = 123\n",
    "print(my_integer)"
   ]
  },
  {
   "cell_type": "code",
   "execution_count": 33,
   "id": "30a436a1-5524-49a6-af2b-883237d13ac4",
   "metadata": {},
   "outputs": [
    {
     "name": "stdout",
     "output_type": "stream",
     "text": [
      "<class 'int'>\n"
     ]
    }
   ],
   "source": [
    "print(type(my_integer))"
   ]
  },
  {
   "cell_type": "code",
   "execution_count": 34,
   "id": "3fdabf57-84d5-4f36-aaa0-f9bd9d95576d",
   "metadata": {},
   "outputs": [
    {
     "name": "stdout",
     "output_type": "stream",
     "text": [
      "4309283240\n"
     ]
    }
   ],
   "source": [
    "print(id(my_integer))"
   ]
  },
  {
   "cell_type": "code",
   "execution_count": 35,
   "id": "40825130-8635-4efe-b0e4-c7f7514b6c91",
   "metadata": {},
   "outputs": [
    {
     "name": "stdout",
     "output_type": "stream",
     "text": [
      "9.9\n"
     ]
    }
   ],
   "source": [
    "# float\n",
    "my_float = 9.9\n",
    "print(my_float)"
   ]
  },
  {
   "cell_type": "code",
   "execution_count": 36,
   "id": "d851fa11-a0d3-4787-bf7d-25ec3d5c91a6",
   "metadata": {},
   "outputs": [
    {
     "name": "stdout",
     "output_type": "stream",
     "text": [
      "<class 'float'>\n",
      "4373376304\n"
     ]
    }
   ],
   "source": [
    "print(type(my_float))\n",
    "print(id(my_float))"
   ]
  },
  {
   "cell_type": "code",
   "execution_count": 37,
   "id": "c566ccd6-a6b4-41bd-a77c-417a70e58702",
   "metadata": {},
   "outputs": [
    {
     "name": "stdout",
     "output_type": "stream",
     "text": [
      "hello world\n"
     ]
    }
   ],
   "source": [
    "# string\n",
    "my_string = \"hello world\"\n",
    "print(my_string)"
   ]
  },
  {
   "cell_type": "code",
   "execution_count": 38,
   "id": "2a9a8540-dc0b-4fdf-8e97-cecc9392cea4",
   "metadata": {},
   "outputs": [
    {
     "name": "stdout",
     "output_type": "stream",
     "text": [
      "my \"nickname\"\n"
     ]
    }
   ],
   "source": [
    "my_long_string = 'my \"nickname\"'\n",
    "print(my_long_string)"
   ]
  },
  {
   "cell_type": "code",
   "execution_count": 39,
   "id": "f634fca4-2ad3-4999-b10d-ada4f3e0e510",
   "metadata": {},
   "outputs": [
    {
     "name": "stdout",
     "output_type": "stream",
     "text": [
      "my 'nickname'\n"
     ]
    }
   ],
   "source": [
    "my_long_string = \"my 'nickname'\"\n",
    "print(my_long_string)"
   ]
  },
  {
   "cell_type": "code",
   "execution_count": 40,
   "id": "deca665c-c4c2-4a34-a76d-cb50542fad11",
   "metadata": {},
   "outputs": [
    {
     "name": "stdout",
     "output_type": "stream",
     "text": [
      "True\n",
      "<class 'bool'>\n",
      "4309276536\n"
     ]
    }
   ],
   "source": [
    "# boolean\n",
    "# True || False\n",
    "my_bool = True\n",
    "print(my_bool)\n",
    "print(type(my_bool))\n",
    "print(id(my_bool))"
   ]
  },
  {
   "cell_type": "code",
   "execution_count": 41,
   "id": "32f179c3-0d80-4ba4-b29e-fc077fa6bcc3",
   "metadata": {},
   "outputs": [],
   "source": [
    "my_integer = 0\n",
    "if my_integer:\n",
    "    print(False)"
   ]
  },
  {
   "cell_type": "code",
   "execution_count": 42,
   "id": "84034b21-29ba-47ac-88a7-d804d6c39003",
   "metadata": {},
   "outputs": [
    {
     "name": "stdout",
     "output_type": "stream",
     "text": [
      "False\n"
     ]
    }
   ],
   "source": [
    "my_integer = 1\n",
    "if my_integer:\n",
    "    print(False)"
   ]
  },
  {
   "cell_type": "code",
   "execution_count": 43,
   "id": "1c152be4-4d62-4ca4-aa65-189e8c5ed9e7",
   "metadata": {},
   "outputs": [],
   "source": [
    "# Truthiness / Falsy\n",
    "arr = []\n",
    "if arr:\n",
    "    print(\"arr is not empty\")"
   ]
  },
  {
   "cell_type": "code",
   "execution_count": 44,
   "id": "d31e813b-6907-4593-88d3-31debd63cc7d",
   "metadata": {},
   "outputs": [
    {
     "name": "stdout",
     "output_type": "stream",
     "text": [
      "arr is not empty\n"
     ]
    }
   ],
   "source": [
    "arr = [1,2]\n",
    "if arr:\n",
    "    print(\"arr is not empty\")"
   ]
  },
  {
   "cell_type": "code",
   "execution_count": 45,
   "id": "6c76dae3-3346-4d20-8e97-6dfe5dc8f5a8",
   "metadata": {},
   "outputs": [
    {
     "name": "stdout",
     "output_type": "stream",
     "text": [
      "1 2\n"
     ]
    }
   ],
   "source": [
    "# Variable\n",
    "a, b = 1, 2\n",
    "print(a, b)"
   ]
  },
  {
   "cell_type": "code",
   "execution_count": 46,
   "id": "27aafc6b-3c6b-4c26-94a5-3edc07ca504d",
   "metadata": {},
   "outputs": [
    {
     "name": "stdout",
     "output_type": "stream",
     "text": [
      "3 3 3\n"
     ]
    }
   ],
   "source": [
    "a = b = c = 3\n",
    "print(a, b, c)"
   ]
  },
  {
   "cell_type": "code",
   "execution_count": 47,
   "id": "23f2ebfd-de40-4ca5-8b8a-f9c9db3a7ffc",
   "metadata": {},
   "outputs": [
    {
     "name": "stdout",
     "output_type": "stream",
     "text": [
      "4 3 3\n"
     ]
    }
   ],
   "source": [
    "a = b = c = 3\n",
    "a = 4\n",
    "print(a, b, c)"
   ]
  },
  {
   "cell_type": "code",
   "execution_count": 48,
   "id": "04073c96-bc45-44dc-8ea2-5eff33ab69bd",
   "metadata": {},
   "outputs": [
    {
     "name": "stdout",
     "output_type": "stream",
     "text": [
      "<class 'int'>\n",
      "100\n",
      "4309282504\n"
     ]
    }
   ],
   "source": [
    "var1 = 100\n",
    "print(type(var1))\n",
    "print(var1)\n",
    "print(id(var1))"
   ]
  },
  {
   "cell_type": "code",
   "execution_count": 49,
   "id": "53addc45-944b-4c99-b0c2-472502f27902",
   "metadata": {},
   "outputs": [
    {
     "name": "stdout",
     "output_type": "stream",
     "text": [
      "<class 'str'>\n",
      "my random string\n",
      "5213866544\n"
     ]
    }
   ],
   "source": [
    "var1 = \"my random string\"\n",
    "print(type(var1))\n",
    "print(var1)\n",
    "print(id(var1))"
   ]
  },
  {
   "cell_type": "code",
   "execution_count": 51,
   "id": "aaeaac77-0ab6-4380-8274-b57804b57a7d",
   "metadata": {},
   "outputs": [
    {
     "name": "stdout",
     "output_type": "stream",
     "text": [
      "9\n"
     ]
    }
   ],
   "source": [
    "# variable name convention \n",
    "# python: \n",
    "# - snake_case\n",
    "# - tidak bisa didahului dengan angka\n",
    "# - case sensitive\n",
    "#    - age != Age != AGE\n",
    "_int = 9\n",
    "print(_int)"
   ]
  },
  {
   "cell_type": "code",
   "execution_count": null,
   "id": "e68b05b6-e447-472f-af85-b45565fa0c8f",
   "metadata": {},
   "outputs": [],
   "source": [
    "# ● camelCase: function naming\n",
    "# ● PascalCase: class naming\n",
    "# ● snake_case: variable naming"
   ]
  },
  {
   "cell_type": "code",
   "execution_count": 53,
   "id": "1ce8d3ed-24a4-462f-bad1-508a39b149f6",
   "metadata": {},
   "outputs": [
    {
     "name": "stdout",
     "output_type": "stream",
     "text": [
      "8\n",
      "1\n"
     ]
    }
   ],
   "source": [
    "# Aritmatika\n",
    "# * / + -\n",
    "# % **\n",
    "print(2 ** 3)\n",
    "print(9 % 2)"
   ]
  },
  {
   "cell_type": "code",
   "execution_count": 54,
   "id": "26c18062-357a-4474-9e4a-c71f4013410f",
   "metadata": {},
   "outputs": [
    {
     "name": "stdout",
     "output_type": "stream",
     "text": [
      "True\n",
      "False\n",
      "False\n",
      "False\n",
      "True\n",
      "True\n"
     ]
    }
   ],
   "source": [
    "# Comparison => menghasilkan bool \n",
    "var_int = 1\n",
    "print(var_int == 1) # apakah var_int adalah 1\n",
    "print(var_int != 1) # apakah var_int bukan 1\n",
    "print(var_int > 1) # apakah var_int GT 1\n",
    "print(var_int < 1) # apakah var_int LT 1\n",
    "print(var_int >= 1) # apakah var_int GTE 1\n",
    "print(var_int <= 1) # apakah var_int LTE 1"
   ]
  },
  {
   "cell_type": "code",
   "execution_count": 58,
   "id": "1e3868ec-4a62-4777-aac1-50c5cbbe061c",
   "metadata": {},
   "outputs": [
    {
     "data": {
      "text/plain": [
       "True"
      ]
     },
     "execution_count": 58,
     "metadata": {},
     "output_type": "execute_result"
    }
   ],
   "source": [
    "var_bool = True\n",
    "var_bool is True\n",
    "var_bool == True"
   ]
  },
  {
   "cell_type": "code",
   "execution_count": 59,
   "id": "e4a39d92-c7ef-430a-91a7-994b2f2a9699",
   "metadata": {},
   "outputs": [
    {
     "name": "stdout",
     "output_type": "stream",
     "text": [
      "helloworld\n"
     ]
    }
   ],
   "source": [
    "# String Manipulation\n",
    "print(\"hello\" + \"world\")"
   ]
  },
  {
   "cell_type": "code",
   "execution_count": 61,
   "id": "a9dbc738-c099-451e-9e0e-eb4556bbd856",
   "metadata": {},
   "outputs": [
    {
     "name": "stdout",
     "output_type": "stream",
     "text": [
      "hello\n"
     ]
    }
   ],
   "source": [
    "# print(\"hello\" + 1) ini tidak valid\n",
    "# Class biasanya ada Method\n",
    "print(\"Hello\".lower())"
   ]
  },
  {
   "cell_type": "code",
   "execution_count": 62,
   "id": "47e7fdd0-a62e-4652-aabd-9468b7345ea0",
   "metadata": {},
   "outputs": [
    {
     "name": "stdout",
     "output_type": "stream",
     "text": [
      "HELLO\n"
     ]
    }
   ],
   "source": [
    "print(\"Hello\".upper())"
   ]
  },
  {
   "cell_type": "code",
   "execution_count": 63,
   "id": "e7bb78c0-4659-4e9c-8383-22fbe5b4922c",
   "metadata": {},
   "outputs": [
    {
     "name": "stdout",
     "output_type": "stream",
     "text": [
      "hELLO\n"
     ]
    }
   ],
   "source": [
    "print(\"Hello\".swapcase())"
   ]
  },
  {
   "cell_type": "code",
   "execution_count": 74,
   "id": "320245fc-3f74-49fa-83e0-b4aad44fb5cb",
   "metadata": {},
   "outputs": [],
   "source": [
    "# List / Array\n",
    "arr = [1,2,3,4, \"hello\", True, 4.3]"
   ]
  },
  {
   "cell_type": "code",
   "execution_count": 68,
   "id": "1eba7c32-5416-4c57-8375-8d4b4ad4aa89",
   "metadata": {},
   "outputs": [
    {
     "name": "stdout",
     "output_type": "stream",
     "text": [
      "[1, 2, 3, 4, 'hello']\n",
      "<class 'list'>\n"
     ]
    }
   ],
   "source": [
    "print(arr)\n",
    "print(type(arr))"
   ]
  },
  {
   "cell_type": "code",
   "execution_count": 79,
   "id": "e1709134-f7d0-4213-8ca7-7614033ec8b1",
   "metadata": {},
   "outputs": [
    {
     "name": "stdout",
     "output_type": "stream",
     "text": [
      "1 4.3 1\n"
     ]
    }
   ],
   "source": [
    "# mengakses list\n",
    "print(arr[0], arr[-1], arr[-7])"
   ]
  },
  {
   "cell_type": "code",
   "execution_count": 75,
   "id": "157a7ec5-abe0-4037-a25b-71eec8dcfca3",
   "metadata": {},
   "outputs": [
    {
     "name": "stdout",
     "output_type": "stream",
     "text": [
      "False\n"
     ]
    }
   ],
   "source": [
    "arr_1 = [1,2,3]\n",
    "arr_2 = [1,3,2]\n",
    "print(arr_1 == arr_2)"
   ]
  },
  {
   "cell_type": "code",
   "execution_count": 76,
   "id": "f65dc627-be48-45ab-b873-24d85ff03a1e",
   "metadata": {},
   "outputs": [
    {
     "name": "stdout",
     "output_type": "stream",
     "text": [
      "True\n",
      "5228442432 5223553216\n"
     ]
    }
   ],
   "source": [
    "arr_1 = [1,2,3]\n",
    "arr_2 = [1,2,3]\n",
    "print(arr_1 == arr_2)\n",
    "print(id(arr_1), id(arr_2))"
   ]
  },
  {
   "cell_type": "code",
   "execution_count": 81,
   "id": "f635dd77-f868-4b6d-9e44-d6cbeeb08fb4",
   "metadata": {},
   "outputs": [
    {
     "name": "stdout",
     "output_type": "stream",
     "text": [
      "[1, 2]\n"
     ]
    }
   ],
   "source": [
    "# Slicing List\n",
    "print(arr[:2]) # index number: 0, 1"
   ]
  },
  {
   "cell_type": "code",
   "execution_count": 82,
   "id": "f94b9fba-c7f9-4015-9a9a-fb54348349b5",
   "metadata": {},
   "outputs": [
    {
     "name": "stdout",
     "output_type": "stream",
     "text": [
      "[2, 3, 4, 'hello']\n"
     ]
    }
   ],
   "source": [
    "print(arr[1:5]) # index number: 1, 2, 3, 4"
   ]
  },
  {
   "cell_type": "code",
   "execution_count": 83,
   "id": "e9848a05-261b-41fc-9ec2-a42cc2cbe94d",
   "metadata": {},
   "outputs": [
    {
     "name": "stdout",
     "output_type": "stream",
     "text": [
      "[1, 2, 3, 4, 'hello', True, 4.3, 1, 2, 3, 4, 'hello', True, 4.3]\n"
     ]
    }
   ],
   "source": [
    "print(arr * 2)"
   ]
  },
  {
   "cell_type": "code",
   "execution_count": 84,
   "id": "8d48f3d9-aaed-4de6-ac97-cc77f1fcd059",
   "metadata": {},
   "outputs": [
    {
     "name": "stdout",
     "output_type": "stream",
     "text": [
      "[1, 2, 3, 4, 'hello', True, 4.3, 1, 2, 3]\n"
     ]
    }
   ],
   "source": [
    "print(arr + [1,2,3])"
   ]
  },
  {
   "cell_type": "code",
   "execution_count": 85,
   "id": "c4a9fa64-1ca6-496a-9731-6a124ca40058",
   "metadata": {},
   "outputs": [
    {
     "ename": "TypeError",
     "evalue": "'>' not supported between instances of 'str' and 'int'",
     "output_type": "error",
     "traceback": [
      "\u001b[0;31m---------------------------------------------------------------------------\u001b[0m",
      "\u001b[0;31mTypeError\u001b[0m                                 Traceback (most recent call last)",
      "Cell \u001b[0;32mIn[85], line 2\u001b[0m\n\u001b[1;32m      1\u001b[0m \u001b[38;5;66;03m# built in function max, min, len\u001b[39;00m\n\u001b[0;32m----> 2\u001b[0m \u001b[38;5;28mprint\u001b[39m(\u001b[38;5;28mmax\u001b[39m(arr))\n",
      "\u001b[0;31mTypeError\u001b[0m: '>' not supported between instances of 'str' and 'int'"
     ]
    }
   ],
   "source": [
    "# built in function max, min, len\n",
    "print(max(arr))"
   ]
  },
  {
   "cell_type": "code",
   "execution_count": 86,
   "id": "bb0ba920-b154-4af2-b35f-b47009ccd167",
   "metadata": {},
   "outputs": [
    {
     "name": "stdout",
     "output_type": "stream",
     "text": [
      "5\n"
     ]
    }
   ],
   "source": [
    "arr_int = [1,2,3,4,5]\n",
    "print(max(arr_int))"
   ]
  },
  {
   "cell_type": "code",
   "execution_count": 87,
   "id": "a24c79d9-903a-46a2-b8bd-352c1c75b5bf",
   "metadata": {},
   "outputs": [
    {
     "name": "stdout",
     "output_type": "stream",
     "text": [
      "1\n"
     ]
    }
   ],
   "source": [
    "print(min(arr_int))"
   ]
  },
  {
   "cell_type": "code",
   "execution_count": 88,
   "id": "0f9c96d0-1deb-408f-adc6-083dff5950e2",
   "metadata": {},
   "outputs": [
    {
     "name": "stdout",
     "output_type": "stream",
     "text": [
      "15\n"
     ]
    }
   ],
   "source": [
    "print(sum(arr_int))"
   ]
  },
  {
   "cell_type": "code",
   "execution_count": 89,
   "id": "a126926d-e6ed-44e7-ab36-006c2524cac0",
   "metadata": {},
   "outputs": [
    {
     "name": "stdout",
     "output_type": "stream",
     "text": [
      "5\n"
     ]
    }
   ],
   "source": [
    "print(len(arr_int))"
   ]
  },
  {
   "cell_type": "code",
   "execution_count": 91,
   "id": "619cf07e-aec4-4f31-b880-b2bc1f7ca484",
   "metadata": {},
   "outputs": [
    {
     "name": "stdout",
     "output_type": "stream",
     "text": [
      "[100, 2, 3] [100, 2, 3]\n"
     ]
    }
   ],
   "source": [
    "# Mutable Variable\n",
    "arr_1 = arr_2 = [1,2,3]\n",
    "arr_2[0] = 100\n",
    "print(arr_1, arr_2)"
   ]
  },
  {
   "cell_type": "code",
   "execution_count": null,
   "id": "c666ab9c-845b-4395-87ae-57810fccc697",
   "metadata": {},
   "outputs": [],
   "source": []
  },
  {
   "cell_type": "code",
   "execution_count": null,
   "id": "9bcf3e39-7204-42b1-ae87-40354a1311b2",
   "metadata": {},
   "outputs": [],
   "source": []
  },
  {
   "cell_type": "code",
   "execution_count": null,
   "id": "0596157a-676f-440d-b812-49a436ab6305",
   "metadata": {},
   "outputs": [],
   "source": []
  }
 ],
 "metadata": {
  "kernelspec": {
   "display_name": "Python 3 (ipykernel)",
   "language": "python",
   "name": "python3"
  },
  "language_info": {
   "codemirror_mode": {
    "name": "ipython",
    "version": 3
   },
   "file_extension": ".py",
   "mimetype": "text/x-python",
   "name": "python",
   "nbconvert_exporter": "python",
   "pygments_lexer": "ipython3",
   "version": "3.12.4"
  }
 },
 "nbformat": 4,
 "nbformat_minor": 5
}
