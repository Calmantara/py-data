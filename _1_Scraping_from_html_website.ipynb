{
  "cells": [
    {
      "cell_type": "markdown",
      "metadata": {
        "id": "zVcAhDCjG39y"
      },
      "source": [
        "We can scrape the any html website and their details with the help of the **BeautifulSoup** library of Python.\n",
        "\n",
        "Read the documentation here: https://beautiful-soup-4.readthedocs.io/en/latest/\n",
        "\n",
        "Below is the list of modules required to scrape.\n",
        "\n",
        "* *requests:* Requests library is an integral part of Python for making HTTP requests to a specified URL. Whether it be REST APIs or Web Scrapping, requests is must to be learned for proceeding further with these technologies. When one makes a request to a URI, it returns a response.\n",
        "\n",
        "* *html5lib:* A pure-python library for parsing HTML. It is designed to conform to the WHATWG HTML specification, as is implemented by all major web browsers.\n",
        "\n",
        "* *bs4:* BeautifulSoup object is provided by Beautiful Soup which is a web scraping framework for Python. Web scraping is the process of extracting data from the website using automated tools to make the process faster."
      ]
    },
    {
      "cell_type": "markdown",
      "metadata": {
        "id": "OuIJHH5jHYfA"
      },
      "source": [
        "##STEP 1. Import the library"
      ]
    },
    {
      "cell_type": "code",
      "execution_count": 1,
      "metadata": {
        "id": "hg0UtfIZHUF1"
      },
      "outputs": [],
      "source": [
        "from bs4 import BeautifulSoup\n",
        "import requests\n",
        "import re\n",
        "import pandas as pd"
      ]
    },
    {
      "cell_type": "markdown",
      "metadata": {
        "id": "xkvSPMQdHm1O"
      },
      "source": [
        "##STEP 2. Access the HTML content from the webpage by assigning the URL and creating a soup object."
      ]
    },
    {
      "cell_type": "code",
      "execution_count": 4,
      "metadata": {
        "id": "uIwmA01EHrkb"
      },
      "outputs": [],
      "source": [
        "# Downloading Kompas data\n",
        "headers = {'Accept-Language': 'en-US,en;q=0.8'}\n",
        "url = 'http://www.kompas.com'\n",
        "response = requests.get(url,headers=headers)\n",
        "soup = BeautifulSoup(response.text, \"html.parser\")"
      ]
    },
    {
      "cell_type": "markdown",
      "metadata": {
        "id": "-fLtGJrRH77i"
      },
      "source": [
        "##STEP 3. Extract the title"
      ]
    },
    {
      "cell_type": "markdown",
      "metadata": {
        "id": "7POTPhz_8P9P"
      },
      "source": [
        "* select the tag \\<```h3```\\> with the class ```article__title```. Please notice the text scraped is still in html format."
      ]
    },
    {
      "cell_type": "code",
      "execution_count": 6,
      "metadata": {
        "colab": {
          "base_uri": "https://localhost:8080/"
        },
        "id": "kxIVLp4-8NmC",
        "outputId": "eb525871-bdaa-4aaf-8517-cb0b71d1faf6"
      },
      "outputs": [
        {
          "name": "stdout",
          "output_type": "stream",
          "text": [
            "<h3 class=\"article__title article__title--medium\">\n",
            "<a class=\"article__link\" href=\"https://www.kgnow.com/watch/1701127/sindikat-perampok-bobol-toko-kopi-di-pulogadung-jaktim-korban-rugi-rp-31-juta?source=KOMPASCOM&amp;position=wp_terkini__player_1\" target=\"_blank\">Sindikat Perampok Bobol Toko Kopi di Pulogadung Jaktim, Korban Rugi Rp 31 Juta</a>\n",
            "</h3>\n",
            " \n",
            "how many titles are available? 3\n"
          ]
        }
      ],
      "source": [
        "newstitle = soup.select('h3.article__title')\n",
        "print(newstitle[0])\n",
        "print(\" \")\n",
        "print(\"how many titles are available?\",len(soup.select('h3.article__title')))\n"
      ]
    },
    {
      "cell_type": "markdown",
      "metadata": {
        "id": "ITEODF6W9SNl"
      },
      "source": [
        "* To get the link, notice that the text is inside the ```<a>``` tag within the ```<h3>``` tag. We can separate it with a space."
      ]
    },
    {
      "cell_type": "code",
      "execution_count": 7,
      "metadata": {
        "colab": {
          "base_uri": "https://localhost:8080/"
        },
        "id": "5QyPOkTq9OuY",
        "outputId": "fe8a353e-f97d-49f9-8d50-32acff95a570"
      },
      "outputs": [
        {
          "name": "stdout",
          "output_type": "stream",
          "text": [
            "[<a class=\"article__link\" href=\"https://www.kgnow.com/watch/1701127/sindikat-perampok-bobol-toko-kopi-di-pulogadung-jaktim-korban-rugi-rp-31-juta?source=KOMPASCOM&amp;position=wp_terkini__player_1\" target=\"_blank\">Sindikat Perampok Bobol Toko Kopi di Pulogadung Jaktim, Korban Rugi Rp 31 Juta</a>, <a class=\"article__link\" href=\"https://www.kgnow.com/watch/1701015/kemenag-merasa-layanan-haji-2024-lebih-baik-dari-2023?source=KOMPASCOM&amp;position=wp_terkini__player_2\">Kemenag Merasa Layanan Haji 2024 Lebih Baik dari 2023</a>, <a class=\"article__link\" href=\"https://www.kgnow.com/watch/1701000/kronologi-residivis-rudapaksa-dan-kasus-nia-penjual-gorengan-di-padang-pariaman?source=KOMPASCOM&amp;position=wp_terkini__player_2\">Kronologi Residivis Rudapaksa dan Kasus Nia Penjual Gorengan di Padang Pariaman</a>]\n"
          ]
        }
      ],
      "source": [
        "text = soup.select('h3 a')\n",
        "print(text)\n",
        "\n"
      ]
    },
    {
      "cell_type": "code",
      "execution_count": null,
      "metadata": {},
      "outputs": [],
      "source": []
    },
    {
      "cell_type": "markdown",
      "metadata": {
        "id": "3U5DErBk-WzQ"
      },
      "source": [
        "\n",
        "\n",
        "*   Get the attribute inside the tag.\n",
        "\n"
      ]
    },
    {
      "cell_type": "code",
      "execution_count": null,
      "metadata": {
        "colab": {
          "base_uri": "https://localhost:8080/"
        },
        "id": "zAIe1zSE-bGb",
        "outputId": "d5cd43be-9874-4bf6-a0a4-ac5e874e5b5b"
      },
      "outputs": [
        {
          "name": "stdout",
          "output_type": "stream",
          "text": [
            "https://nasional.kompas.com/read/2023/09/18/17150041/lemhannas-prediksi-pemilu-2024-di-indonesia-akan-dijadikan-eksperimen\n"
          ]
        }
      ],
      "source": [
        "links=[]\n",
        "for a in soup.select('h3 a'):\n",
        "  links.append(a.attrs.get('href'))\n",
        "\n",
        "print(links[0])"
      ]
    },
    {
      "cell_type": "markdown",
      "metadata": {
        "id": "u82bREgtIJh8"
      },
      "source": [
        "##STEP 4. Looping the process and storing the data.\n",
        "You may also apply some regex here."
      ]
    },
    {
      "cell_type": "code",
      "execution_count": 8,
      "metadata": {
        "colab": {
          "base_uri": "https://localhost:8080/"
        },
        "id": "3a3XRyJiGDLu",
        "outputId": "44533bca-8afb-4b18-ebf2-4b0ab10408c1"
      },
      "outputs": [
        {
          "name": "stdout",
          "output_type": "stream",
          "text": [
            "['Sindikat Perampok Bobol Toko Kopi di Pulogadung Jaktim, Korban Rugi Rp 31 Juta', 'Kemenag Merasa Layanan Haji 2024 Lebih Baik dari 2023', 'Kronologi Residivis Rudapaksa dan Kasus Nia Penjual Gorengan di Padang Pariaman']\n",
            "['https://www.kgnow.com/watch/1701127/sindikat-perampok-bobol-toko-kopi-di-pulogadung-jaktim-korban-rugi-rp-31-juta?source=KOMPASCOM&position=wp_terkini__player_1', 'https://www.kgnow.com/watch/1701015/kemenag-merasa-layanan-haji-2024-lebih-baik-dari-2023?source=KOMPASCOM&position=wp_terkini__player_2', 'https://www.kgnow.com/watch/1701000/kronologi-residivis-rudapaksa-dan-kasus-nia-penjual-gorengan-di-padang-pariaman?source=KOMPASCOM&position=wp_terkini__player_2']\n"
          ]
        }
      ],
      "source": [
        "article_title=[]\n",
        "links=[]\n",
        "\n",
        "for t in soup.select('h3.article__title a'):\n",
        "  article_title.append(t.get_text())\n",
        "  links.append(t.attrs.get('href'))\n",
        "\n",
        "print(article_title)\n",
        "print(links)\n",
        "\n",
        "\n"
      ]
    },
    {
      "cell_type": "code",
      "execution_count": null,
      "metadata": {},
      "outputs": [],
      "source": []
    },
    {
      "cell_type": "markdown",
      "metadata": {
        "id": "kY17jfVwIiRo"
      },
      "source": [
        "##STEP 5. Save as DataFrame and store it as CSV for further analysis.\n",
        "You can also store it as SQL if you prefer."
      ]
    },
    {
      "cell_type": "code",
      "execution_count": 10,
      "metadata": {
        "colab": {
          "base_uri": "https://localhost:8080/"
        },
        "id": "UjZEofrKInRC",
        "outputId": "93981ffc-f22a-4f77-a917-29d5ba4b7133"
      },
      "outputs": [
        {
          "name": "stdout",
          "output_type": "stream",
          "text": [
            "                                       article_title  \\\n",
            "0  Sindikat Perampok Bobol Toko Kopi di Pulogadun...   \n",
            "1  Kemenag Merasa Layanan Haji 2024 Lebih Baik da...   \n",
            "2  Kronologi Residivis Rudapaksa dan Kasus Nia Pe...   \n",
            "\n",
            "                                                link  \n",
            "0  https://www.kgnow.com/watch/1701127/sindikat-p...  \n",
            "1  https://www.kgnow.com/watch/1701015/kemenag-me...  \n",
            "2  https://www.kgnow.com/watch/1701000/kronologi-...  \n"
          ]
        }
      ],
      "source": [
        "df = pd.DataFrame(\n",
        "    {'article_title': article_title,\n",
        "     'link': links}\n",
        "    )\n",
        "\n",
        "print (df.head())\n",
        "\n",
        "df.to_csv('kompasarticle.csv', index=False)"
      ]
    },
    {
      "cell_type": "code",
      "execution_count": null,
      "metadata": {},
      "outputs": [],
      "source": []
    },
    {
      "cell_type": "code",
      "execution_count": null,
      "metadata": {},
      "outputs": [],
      "source": []
    },
    {
      "cell_type": "code",
      "execution_count": null,
      "metadata": {
        "colab": {
          "base_uri": "https://localhost:8080/"
        },
        "id": "pYYbZ7FvNhAA",
        "outputId": "34c1858d-f3bd-4908-9ee2-3896d7b840d6"
      },
      "outputs": [
        {
          "name": "stdout",
          "output_type": "stream",
          "text": [
            "Collecting bs4\n",
            "  Downloading bs4-0.0.1.tar.gz (1.1 kB)\n",
            "  Preparing metadata (setup.py) ... \u001b[?25l\u001b[?25hdone\n",
            "Requirement already satisfied: beautifulsoup4 in /usr/local/lib/python3.10/dist-packages (from bs4) (4.11.2)\n",
            "Requirement already satisfied: soupsieve>1.2 in /usr/local/lib/python3.10/dist-packages (from beautifulsoup4->bs4) (2.5)\n",
            "Building wheels for collected packages: bs4\n",
            "  Building wheel for bs4 (setup.py) ... \u001b[?25l\u001b[?25hdone\n",
            "  Created wheel for bs4: filename=bs4-0.0.1-py3-none-any.whl size=1256 sha256=81da2695061b89bdd70cd4b898c54bf649a7fb6ad742f3d4eebce79e00b1b1cb\n",
            "  Stored in directory: /root/.cache/pip/wheels/25/42/45/b773edc52acb16cd2db4cf1a0b47117e2f69bb4eb300ed0e70\n",
            "Successfully built bs4\n",
            "Installing collected packages: bs4\n",
            "Successfully installed bs4-0.0.1\n",
            "Requirement already satisfied: beautifulsoup4 in /usr/local/lib/python3.10/dist-packages (4.11.2)\n",
            "Collecting beautifulsoup4\n",
            "  Downloading beautifulsoup4-4.12.2-py3-none-any.whl (142 kB)\n",
            "\u001b[2K     \u001b[90m━━━━━━━━━━━━━━━━━━━━━━━━━━━━━━━━━━━━━━━\u001b[0m \u001b[32m143.0/143.0 kB\u001b[0m \u001b[31m4.6 MB/s\u001b[0m eta \u001b[36m0:00:00\u001b[0m\n",
            "\u001b[?25hRequirement already satisfied: soupsieve>1.2 in /usr/local/lib/python3.10/dist-packages (from beautifulsoup4) (2.5)\n",
            "Installing collected packages: beautifulsoup4\n",
            "  Attempting uninstall: beautifulsoup4\n",
            "    Found existing installation: beautifulsoup4 4.11.2\n",
            "    Uninstalling beautifulsoup4-4.11.2:\n",
            "      Successfully uninstalled beautifulsoup4-4.11.2\n",
            "Successfully installed beautifulsoup4-4.12.2\n"
          ]
        }
      ],
      "source": [
        "!pip install bs4\n",
        "!pip install --upgrade beautifulsoup4"
      ]
    }
  ],
  "metadata": {
    "colab": {
      "provenance": []
    },
    "kernelspec": {
      "display_name": "Python 3",
      "name": "python3"
    },
    "language_info": {
      "codemirror_mode": {
        "name": "ipython",
        "version": 3
      },
      "file_extension": ".py",
      "mimetype": "text/x-python",
      "name": "python",
      "nbconvert_exporter": "python",
      "pygments_lexer": "ipython3",
      "version": "3.12.4"
    }
  },
  "nbformat": 4,
  "nbformat_minor": 0
}
