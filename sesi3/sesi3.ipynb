{
 "cells": [
  {
   "cell_type": "code",
   "execution_count": null,
   "id": "ef96ebee-6bf2-4c05-89a7-75f05e1f9c73",
   "metadata": {},
   "outputs": [],
   "source": [
    "# function\n",
    "def function_name(name :str):\n",
    "    print(\"hello\", name)\n",
    "\n",
    "function_name(\"calman\")"
   ]
  },
  {
   "cell_type": "code",
   "execution_count": null,
   "id": "906a5bb6-bb22-45a8-b55f-b9ac07889e69",
   "metadata": {},
   "outputs": [],
   "source": [
    "def add(in1 :int, in2 :int) -> int:\n",
    "    return in1 + in2\n",
    "\n",
    "print(add(1,2))\n",
    "\n",
    "# NB: sangat menyarankan untuk\n",
    "# menulis data type di return / input argument\n",
    "# supaya well documented"
   ]
  },
  {
   "cell_type": "code",
   "execution_count": null,
   "id": "994217aa-2a16-48e1-a4a2-b7e22904c8d5",
   "metadata": {},
   "outputs": [],
   "source": [
    "# function => dianggap suatu class\n",
    "print(type(add))"
   ]
  },
  {
   "cell_type": "code",
   "execution_count": null,
   "id": "517579f1-e2bf-4c7d-b3ed-c69c8076724e",
   "metadata": {},
   "outputs": [],
   "source": [
    "# function dapat mengubah suatu input param\n",
    "# mutable / immutable\n",
    "def edit_arr(arr :list):\n",
    "    arr.append([1,2,3,4])\n",
    "    print(\"inside func\", arr)\n",
    "\n",
    "arr = [5,6,7,8]\n",
    "edit_arr(arr)\n",
    "print(\"outside func\", arr)"
   ]
  },
  {
   "cell_type": "code",
   "execution_count": null,
   "id": "34cf0abc-68d8-49dd-a9b2-833e1bd2ce6e",
   "metadata": {},
   "outputs": [],
   "source": []
  },
  {
   "cell_type": "code",
   "execution_count": null,
   "id": "4d3fc4c7-c355-4c8f-9d6e-50d5bc610bfb",
   "metadata": {},
   "outputs": [],
   "source": [
    "def edit_int(inp :int):\n",
    "    inp += 5\n",
    "    print(\"inside func\", inp)\n",
    "\n",
    "inp = 100\n",
    "edit_int(inp)\n",
    "print(\"outside func\", inp) "
   ]
  },
  {
   "cell_type": "code",
   "execution_count": null,
   "id": "fa645912-7ceb-40b0-a1fd-a7a87d6e8f70",
   "metadata": {},
   "outputs": [],
   "source": [
    "def default_val(inp :int = 100):\n",
    "    print(inp)\n",
    "\n",
    "default_val()"
   ]
  },
  {
   "cell_type": "code",
   "execution_count": null,
   "id": "b2ac56f7-bcb9-462a-8a99-2bec7a1decf9",
   "metadata": {},
   "outputs": [],
   "source": [
    "def req_val(inp :int):\n",
    "    print(inp)\n",
    "\n",
    "req_val()"
   ]
  },
  {
   "cell_type": "code",
   "execution_count": null,
   "id": "3321b94a-e3b2-43af-b124-2ed4a707880b",
   "metadata": {},
   "outputs": [],
   "source": [
    "# option input\n",
    "def var_length(arg1 :int, *args):\n",
    "    print(\"arg1\", arg1)\n",
    "    for a in args:\n",
    "        print(\"args\",a)\n",
    "\n",
    "var_length(1)\n",
    "\n",
    "var_length(1, 1, 2, 3, 4)"
   ]
  },
  {
   "cell_type": "code",
   "execution_count": null,
   "id": "fd23aa14-1ebd-4b24-882c-a1bac7bb250e",
   "metadata": {},
   "outputs": [],
   "source": [
    "def student(name :str, grade :int):\n",
    "    print(\"name\", name)\n",
    "    print(\"grade\", grade)\n",
    "\n",
    "student(\"calman\", 100)\n",
    "student(grade = 100, name = \"Alex\")"
   ]
  },
  {
   "cell_type": "code",
   "execution_count": null,
   "id": "64e2f120-052b-41c4-ad0e-0b7cd1cbc888",
   "metadata": {},
   "outputs": [],
   "source": [
    "# Kita ada juga function yang bisa \n",
    "# didefinisikan inline\n",
    "# anonymous func\n",
    "sub = lambda arg1, arg2: arg2 - arg1;\n",
    "print(\"lambda func\", sub(1,100))"
   ]
  },
  {
   "cell_type": "code",
   "execution_count": null,
   "id": "8ba9b488-d6bd-496f-af01-b53b82b46aba",
   "metadata": {},
   "outputs": [],
   "source": [
    "# Variable Scope\n",
    "# Local v Global\n",
    "counter = 1\n",
    "def increase():\n",
    "    global counter\n",
    "    counter += 1\n",
    "\n",
    "def decrease():\n",
    "    global counter\n",
    "    counter -= 1\n",
    "\n",
    "def print_counter():\n",
    "    print(counter)\n",
    "\n",
    "print_counter()\n",
    "increase()\n",
    "print_counter()\n",
    "increase()\n",
    "increase()\n",
    "increase()\n",
    "print_counter()\n",
    "\n",
    "decrease()\n",
    "print_counter()"
   ]
  },
  {
   "cell_type": "code",
   "execution_count": null,
   "id": "dc165827-85f9-40b2-b6c8-049031bb5e2b",
   "metadata": {},
   "outputs": [],
   "source": [
    "import my_math.calculator as c\n",
    "print(c.__file__)"
   ]
  },
  {
   "cell_type": "code",
   "execution_count": null,
   "id": "039e1110-0264-4efc-ac30-d7fa151984ee",
   "metadata": {},
   "outputs": [],
   "source": [
    "import calculator"
   ]
  },
  {
   "cell_type": "code",
   "execution_count": null,
   "id": "9fbbc902-0054-4c63-b5fa-6d6bb1f5c802",
   "metadata": {},
   "outputs": [],
   "source": [
    "import calculator"
   ]
  },
  {
   "cell_type": "code",
   "execution_count": null,
   "id": "5c9eb772-22ac-4ed9-8b9b-ec19bb7c7d39",
   "metadata": {},
   "outputs": [],
   "source": [
    "print(c.mul(100, 100))"
   ]
  },
  {
   "cell_type": "code",
   "execution_count": null,
   "id": "367960c4-a87f-4315-a867-1af81cb5611a",
   "metadata": {},
   "outputs": [],
   "source": [
    "import sys\n",
    "\n",
    "print(sys.path)"
   ]
  },
  {
   "cell_type": "code",
   "execution_count": null,
   "id": "a91a52c3-77b6-4e1e-beeb-d38a5b17db09",
   "metadata": {},
   "outputs": [],
   "source": [
    "# kita hanya membutuhkan register\n",
    "# dari module student\n",
    "from student import *\n",
    "register(\"calman\")"
   ]
  },
  {
   "cell_type": "code",
   "execution_count": null,
   "id": "62071287-62ad-474b-b6b6-a2b42d78f29c",
   "metadata": {},
   "outputs": [],
   "source": [
    "dir()"
   ]
  },
  {
   "cell_type": "code",
   "execution_count": null,
   "id": "a858b60a-866c-4511-a3ea-76d86c1cadf7",
   "metadata": {},
   "outputs": [],
   "source": []
  },
  {
   "cell_type": "code",
   "execution_count": null,
   "id": "f0c170fb-eafe-4dac-bcdc-298fde0e0937",
   "metadata": {},
   "outputs": [],
   "source": []
  },
  {
   "cell_type": "code",
   "execution_count": null,
   "id": "4800f15c-5963-48f7-98f5-8e6e491876d6",
   "metadata": {},
   "outputs": [],
   "source": []
  },
  {
   "cell_type": "code",
   "execution_count": null,
   "id": "230ab12f-4f40-425d-9a5b-6c6dad708f33",
   "metadata": {},
   "outputs": [],
   "source": []
  },
  {
   "cell_type": "code",
   "execution_count": null,
   "id": "4cb306dc-7826-446e-9037-55e1f499ad77",
   "metadata": {},
   "outputs": [],
   "source": []
  },
  {
   "cell_type": "code",
   "execution_count": null,
   "id": "f8410726-a17e-4ce8-adae-33d685cce38a",
   "metadata": {},
   "outputs": [],
   "source": []
  },
  {
   "cell_type": "code",
   "execution_count": null,
   "id": "f10a8173-0bd6-4e01-a68b-0b45f5dd18d9",
   "metadata": {},
   "outputs": [],
   "source": []
  },
  {
   "cell_type": "code",
   "execution_count": null,
   "id": "d2ef0736-cd45-4132-bcb5-5c95e043c019",
   "metadata": {
    "editable": true,
    "slideshow": {
     "slide_type": ""
    },
    "tags": []
   },
   "outputs": [],
   "source": []
  }
 ],
 "metadata": {
  "kernelspec": {
   "display_name": "Python 3 (ipykernel)",
   "language": "python",
   "name": "python3"
  },
  "language_info": {
   "codemirror_mode": {
    "name": "ipython",
    "version": 3
   },
   "file_extension": ".py",
   "mimetype": "text/x-python",
   "name": "python",
   "nbconvert_exporter": "python",
   "pygments_lexer": "ipython3",
   "version": "3.12.4"
  }
 },
 "nbformat": 4,
 "nbformat_minor": 5
}
