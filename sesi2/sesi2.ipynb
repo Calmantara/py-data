{
 "cells": [
  {
   "cell_type": "code",
   "execution_count": 22,
   "id": "5dcb5483-0b9a-4e3b-b65f-cb1920f8396e",
   "metadata": {},
   "outputs": [],
   "source": [
    "age = 100\n",
    "# jika age > 10 dan <= 17 => ABG\n",
    "# jika age <= 10 => Anak Anak\n",
    "# jika age > 17 => Dewasa"
   ]
  },
  {
   "cell_type": "code",
   "execution_count": 23,
   "id": "59c91e48-a15a-4f99-bf65-54546c9fabb8",
   "metadata": {},
   "outputs": [
    {
     "name": "stdout",
     "output_type": "stream",
     "text": [
      "Dewasa\n"
     ]
    }
   ],
   "source": [
    "# dia tidak cukup efficient\n",
    "if age <= 10:\n",
    "    print(\"Anak-anak\")\n",
    "\n",
    "if age > 10 and age <= 17:\n",
    "    print(\"ABG\")\n",
    "\n",
    "if age > 17:\n",
    "    print(\"Dewasa\")"
   ]
  },
  {
   "cell_type": "code",
   "execution_count": 24,
   "id": "a88d1f26-8e2e-4bb7-9085-b8b83262f071",
   "metadata": {},
   "outputs": [],
   "source": [
    "# jika age adalah nilai dalam [10, 20, 30, 40]\n",
    "# maka dia berhak untuk mendapatkan hadiah\n",
    "arr_age = [10, 20, 30, 40, 50]\n",
    "if age in arr_age:\n",
    "    print(\"Berhak mendapatkan hadiah\")\n"
   ]
  },
  {
   "cell_type": "code",
   "execution_count": 25,
   "id": "712b970b-b758-4039-a4de-39fb7d351496",
   "metadata": {},
   "outputs": [
    {
     "name": "stdout",
     "output_type": "stream",
     "text": [
      "Dewasa\n"
     ]
    }
   ],
   "source": [
    "# cukup efficient\n",
    "if age <= 10:\n",
    "    print(\"Anak-anak\")\n",
    "elif age > 10 and age <= 17:\n",
    "    print(\"ABG\")\n",
    "else:\n",
    "    print(\"Dewasa\")"
   ]
  },
  {
   "cell_type": "code",
   "execution_count": 26,
   "id": "dd5206dc-0c5e-43a9-ba90-39017fc05352",
   "metadata": {},
   "outputs": [
    {
     "name": "stdout",
     "output_type": "stream",
     "text": [
      "Legend\n"
     ]
    }
   ],
   "source": [
    "# one line condition\n",
    "if age == 100: print(\"Legend\")"
   ]
  },
  {
   "cell_type": "code",
   "execution_count": 32,
   "id": "c18f2e95-e488-4e1c-97c6-7b467b55be3f",
   "metadata": {},
   "outputs": [
    {
     "name": "stdout",
     "output_type": "stream",
     "text": [
      "Legend\n",
      "Legend 2\n",
      "Legend 3\n"
     ]
    }
   ],
   "source": [
    "if age == 100: print(\"Legend\");print(\"Legend 2\");print(\"Legend 3\")"
   ]
  },
  {
   "cell_type": "code",
   "execution_count": 34,
   "id": "09449376-e19c-4011-a13e-375f81ef0c57",
   "metadata": {},
   "outputs": [
    {
     "name": "stdout",
     "output_type": "stream",
     "text": [
      "Dewasa\n"
     ]
    }
   ],
   "source": [
    "# multiple condition \n",
    "# but want to code in one line\n",
    "if age <= 10: print(\"Anak-anak\")\n",
    "elif age > 10 and age <= 17: print(\"ABG\")\n",
    "else: print(\"Dewasa\")"
   ]
  },
  {
   "cell_type": "code",
   "execution_count": 38,
   "id": "38098a55-7a65-40fc-9974-73951a82c5cb",
   "metadata": {},
   "outputs": [
    {
     "name": "stdout",
     "output_type": "stream",
     "text": [
      "True\n"
     ]
    }
   ],
   "source": [
    "# Ternary Condition\n",
    "var_1 = True if age == 100 else False\n",
    "print(var_1)"
   ]
  },
  {
   "cell_type": "code",
   "execution_count": 39,
   "id": "6e2de65d-48c2-49a3-b593-9ae25435f4ff",
   "metadata": {},
   "outputs": [
    {
     "name": "stdout",
     "output_type": "stream",
     "text": [
      "GOOD\n"
     ]
    }
   ],
   "source": [
    "# Option 1 jika tidak menggunakan ternary\n",
    "var_1 = False\n",
    "if age == 100:\n",
    "    var_1 = True\n",
    "\n",
    "# Option 2\n",
    "if age == 100:\n",
    "    var_1 = True\n",
    "else:\n",
    "    var_1 = False\n",
    "\n",
    "# If di dalam if?\n",
    "# Nested Condition\n",
    "gender = \"MALE\"\n",
    "if age > 17:\n",
    "    if gender == \"MALE\":\n",
    "        print(\"GOOD\")"
   ]
  },
  {
   "cell_type": "code",
   "execution_count": 43,
   "id": "fa04773f-9f60-4e1b-a8ed-9aefbb92b243",
   "metadata": {},
   "outputs": [
    {
     "name": "stdout",
     "output_type": "stream",
     "text": [
      "BLUE\n"
     ]
    }
   ],
   "source": [
    "# Apakah bisa nested ternary condition?\n",
    "x = 18\n",
    "color = \"RED\" if x <= 10 else \"GREEN\" if x>10 and x <= 17 else \"BLUE\"\n",
    "print(color)"
   ]
  },
  {
   "cell_type": "code",
   "execution_count": 47,
   "id": "9f95a1c5-4075-4344-9757-f496c2f9565f",
   "metadata": {},
   "outputs": [],
   "source": [
    "# membuat code dengan TDD (test driven development)\n",
    "if color == \"RED\":\n",
    "    # no idea to do\n",
    "    pass"
   ]
  },
  {
   "cell_type": "code",
   "execution_count": 1,
   "id": "439c01a0-74f2-4b90-9272-3ef4a4a2413b",
   "metadata": {},
   "outputs": [
    {
     "name": "stdout",
     "output_type": "stream",
     "text": [
      "0\n",
      "1\n",
      "2\n",
      "3\n",
      "4\n",
      "5\n",
      "6\n",
      "7\n",
      "8\n",
      "9\n"
     ]
    }
   ],
   "source": [
    "# While Loop\n",
    "counter = 0\n",
    "while counter < 10:\n",
    "    print(counter)\n",
    "    # memanipulasi counter\n",
    "    counter += 1"
   ]
  },
  {
   "cell_type": "code",
   "execution_count": 5,
   "id": "452ac8fd-e6cf-474a-80bc-2067286abb39",
   "metadata": {},
   "outputs": [
    {
     "name": "stdout",
     "output_type": "stream",
     "text": [
      "1\n",
      "2\n",
      "3\n",
      "4\n",
      "Continue\n",
      "6\n",
      "7\n",
      "8\n",
      "9\n",
      "Continue\n",
      "Else from while loop\n"
     ]
    }
   ],
   "source": [
    "# Break and Continue function\n",
    "# Break => akan memaksa keluar dari looping\n",
    "# Continue => melanjutkan iterasi berikutnya dan skip process dibawahnya\n",
    "counter = 0\n",
    "while counter < 10:\n",
    "    counter+=1\n",
    "    if counter % 5 == 0:\n",
    "        print(\"Continue\")\n",
    "        continue\n",
    "    if counter + 2 >= 100:\n",
    "        print(\"Break\")\n",
    "        break\n",
    "    print(counter)\n",
    "else:\n",
    "    print(\"Else from while loop\")\n",
    "# else hanya dijalankan ketika while / iterasi berhenti dari kondisinya\n",
    "# bukan dari BREAK"
   ]
  },
  {
   "cell_type": "code",
   "execution_count": 6,
   "id": "b5fc690d-ff59-4d11-acb7-15020f0bd51c",
   "metadata": {},
   "outputs": [],
   "source": [
    "# Infinite loop\n",
    "# while True:\n",
    "    # inifinte process\n",
    "    # harus ada kondisi keluar (invalid)"
   ]
  },
  {
   "cell_type": "code",
   "execution_count": 1,
   "id": "a2350fe2-3d7b-4989-a982-96f5c384e603",
   "metadata": {},
   "outputs": [
    {
     "name": "stdout",
     "output_type": "stream",
     "text": [
      "0 0\n",
      "0 1\n",
      "0 2\n",
      "0 3\n",
      "0 4\n",
      "0 5\n",
      "0 6\n",
      "0 7\n",
      "0 8\n",
      "0 9\n",
      "1 0\n",
      "1 1\n",
      "1 2\n",
      "1 3\n",
      "1 4\n",
      "1 5\n",
      "1 6\n",
      "1 7\n",
      "1 8\n",
      "1 9\n",
      "2 0\n",
      "2 1\n",
      "2 2\n",
      "2 3\n",
      "2 4\n",
      "2 5\n",
      "2 6\n",
      "2 7\n",
      "2 8\n",
      "2 9\n",
      "3 0\n",
      "3 1\n",
      "3 2\n",
      "3 3\n",
      "3 4\n",
      "3 5\n",
      "3 6\n",
      "3 7\n",
      "3 8\n",
      "3 9\n",
      "4 0\n",
      "4 1\n",
      "4 2\n",
      "4 3\n",
      "4 4\n",
      "4 5\n",
      "4 6\n",
      "4 7\n",
      "4 8\n",
      "4 9\n",
      "5 0\n",
      "5 1\n",
      "5 2\n",
      "5 3\n",
      "5 4\n",
      "5 5\n",
      "5 6\n",
      "5 7\n",
      "5 8\n",
      "5 9\n",
      "6 0\n",
      "6 1\n",
      "6 2\n",
      "6 3\n",
      "6 4\n",
      "6 5\n",
      "6 6\n",
      "6 7\n",
      "6 8\n",
      "6 9\n",
      "7 0\n",
      "7 1\n",
      "7 2\n",
      "7 3\n",
      "7 4\n",
      "7 5\n",
      "7 6\n",
      "7 7\n",
      "7 8\n",
      "7 9\n",
      "8 0\n",
      "8 1\n",
      "8 2\n",
      "8 3\n",
      "8 4\n",
      "8 5\n",
      "8 6\n",
      "8 7\n",
      "8 8\n",
      "8 9\n",
      "9 0\n",
      "9 1\n",
      "9 2\n",
      "9 3\n",
      "9 4\n",
      "9 5\n",
      "9 6\n",
      "9 7\n",
      "9 8\n",
      "9 9\n"
     ]
    }
   ],
   "source": [
    "# sama seperti condition\n",
    "i = 0\n",
    "while i < 10:\n",
    "    j = 0\n",
    "    while j < 10:\n",
    "        print(i, j)\n",
    "        j += 1\n",
    "    i += 1"
   ]
  },
  {
   "cell_type": "code",
   "execution_count": 3,
   "id": "5fd15dfa-b726-4154-9206-18fb22f86357",
   "metadata": {},
   "outputs": [
    {
     "name": "stdout",
     "output_type": "stream",
     "text": [
      "6\n",
      "7\n",
      "8\n",
      "9\n",
      "10\n"
     ]
    }
   ],
   "source": [
    "# one line while loops\n",
    "n = 5\n",
    "while n < 10: n += 1; print(n)"
   ]
  },
  {
   "cell_type": "code",
   "execution_count": 6,
   "id": "6bda6665-3d72-4594-91b2-ec2f6bb1e2bc",
   "metadata": {},
   "outputs": [],
   "source": [
    "# for loop\n",
    "\n",
    "# 10.times => Ruby\n",
    "\n",
    "# for i = 0 to 10: => Pascal\n",
    "#     print(i)"
   ]
  },
  {
   "cell_type": "code",
   "execution_count": 9,
   "id": "f7806c9e-7920-42ed-ab3a-796abc88219a",
   "metadata": {},
   "outputs": [],
   "source": [
    "# for (i = 0; i < 100; i +=1): => CPP / Go / JS\n",
    "#     print(i)"
   ]
  },
  {
   "cell_type": "code",
   "execution_count": 17,
   "id": "5dde28ed-6db2-4a2c-b167-b46da6336954",
   "metadata": {},
   "outputs": [
    {
     "name": "stdout",
     "output_type": "stream",
     "text": [
      "<class 'range'>\n",
      "0\n",
      "1\n",
      "2\n",
      "3\n",
      "4\n",
      "5\n",
      "6\n",
      "7\n",
      "8\n",
      "9\n",
      "1\n",
      "2\n",
      "3\n",
      "4\n",
      "k\n",
      "k2\n",
      "k3\n",
      "1\n",
      "2\n",
      "3\n",
      "4\n",
      "5\n",
      "6\n"
     ]
    }
   ],
   "source": [
    "# menggunakan range\n",
    "print(type(range(10)))\n",
    "for i in range(10):\n",
    "    print(i)\n",
    "# menggunakan list\n",
    "arr_1 = [1,2,3,4]\n",
    "for i in arr_1:\n",
    "    print(i)\n",
    "# iterate dict\n",
    "dict_1 = {\"k\":\"v\", \"k2\":\"v2\", \"k3\":\"v3\"}\n",
    "for i in dict_1:\n",
    "    print(i)\n",
    "# tuple\n",
    "tup_1 = (1,2,3,4,5,6)\n",
    "for i in tup_1:\n",
    "    print(i)"
   ]
  },
  {
   "cell_type": "code",
   "execution_count": 23,
   "id": "4d395c3f-e2d3-4d2b-910b-4bf5a362b5a0",
   "metadata": {},
   "outputs": [
    {
     "name": "stdout",
     "output_type": "stream",
     "text": [
      "continue\n",
      "1\n",
      "2\n",
      "3\n",
      "4\n",
      "continue\n",
      "6\n",
      "7\n",
      "8\n",
      "9\n",
      "continue\n",
      "11\n",
      "12\n",
      "13\n",
      "14\n",
      "continue\n",
      "16\n",
      "17\n",
      "18\n",
      "19\n",
      "continue\n",
      "21\n",
      "22\n",
      "23\n",
      "24\n",
      "continue\n",
      "26\n",
      "27\n",
      "28\n",
      "29\n",
      "continue\n",
      "31\n",
      "32\n",
      "33\n",
      "34\n",
      "continue\n",
      "36\n",
      "37\n",
      "38\n",
      "39\n",
      "continue\n",
      "41\n",
      "42\n",
      "43\n",
      "44\n",
      "continue\n",
      "46\n",
      "47\n",
      "48\n",
      "49\n",
      "continue\n",
      "51\n",
      "52\n",
      "53\n",
      "54\n",
      "continue\n",
      "56\n",
      "57\n",
      "58\n",
      "59\n",
      "continue\n",
      "61\n",
      "62\n",
      "63\n",
      "64\n",
      "continue\n",
      "66\n",
      "67\n",
      "68\n",
      "69\n",
      "continue\n",
      "71\n",
      "72\n",
      "73\n",
      "74\n",
      "continue\n",
      "76\n",
      "77\n",
      "78\n",
      "79\n",
      "continue\n",
      "81\n",
      "82\n",
      "83\n",
      "84\n",
      "continue\n",
      "86\n",
      "87\n",
      "88\n",
      "89\n",
      "continue\n",
      "91\n",
      "92\n",
      "93\n",
      "94\n",
      "continue\n",
      "96\n",
      "97\n",
      "98\n",
      "99\n",
      "end of for loop\n"
     ]
    }
   ],
   "source": [
    "# sama seperti while\n",
    "# kita bisa menambahkan break / continue / else\n",
    "# pada for loop\n",
    "for i in range(100):\n",
    "    if i % 5 == 0:\n",
    "        print(\"continue\")\n",
    "        continue\n",
    "    if i + 20 > 870:\n",
    "        print(\"break\")\n",
    "        break\n",
    "    print(i)\n",
    "else:\n",
    "    print(\"end of for loop\")"
   ]
  },
  {
   "cell_type": "code",
   "execution_count": 27,
   "id": "939502b0-6531-4631-a14e-c9460cece531",
   "metadata": {},
   "outputs": [],
   "source": [
    "# Challenge 1: Grouping List\n",
    "# Pisahkan list berikut dengan mengelompokkan berdasarkan:\n",
    "# 1. ganjil\n",
    "# 2. genap\n",
    "# 3. habis dibagi 7\n",
    "# 4. Break ketika ada angka negative\n",
    "# my_list = [1, 2, 3, 4, 5, 6, 7, 100, 110, 21, 33, 32, 2, 4]"
   ]
  },
  {
   "cell_type": "code",
   "execution_count": null,
   "id": "d0d5b271-f47f-4116-b7e9-973197085a49",
   "metadata": {},
   "outputs": [],
   "source": [
    "# Challenge 2: Cummulative Sum\n",
    "# buatlah program untuk menghitung sum dari suatu list\n",
    "# e.g. list = [1,2,3,4,5]\n",
    "# result = [1, 3, 6, 10, 15, dst]\n",
    "\n",
    "# my_list = [1, 2, 3, 4, 5, 6, 7, 100, 110, 21, 33, 32, 2, 4]"
   ]
  },
  {
   "cell_type": "code",
   "execution_count": 29,
   "id": "913ea0bf-524a-4575-95b0-7a7763b2fc32",
   "metadata": {},
   "outputs": [
    {
     "name": "stdout",
     "output_type": "stream",
     "text": [
      "5\n",
      "6\n",
      "4\n",
      "5\n",
      "3\n",
      "4\n",
      "2\n",
      "3\n",
      "1\n",
      "2\n"
     ]
    }
   ],
   "source": [
    "for i in [5,4,3,2,1]: print(i);print(i+1)"
   ]
  },
  {
   "cell_type": "code",
   "execution_count": 32,
   "id": "ce711e9e-9675-4c78-b545-6ba906fee158",
   "metadata": {},
   "outputs": [
    {
     "name": "stdout",
     "output_type": "stream",
     "text": [
      "[4, 9, 16]\n"
     ]
    }
   ],
   "source": [
    "arr_2 = [a ** 2 for a in [2,3,4]]\n",
    "print(arr_2)"
   ]
  },
  {
   "cell_type": "code",
   "execution_count": 33,
   "id": "8a10558d-93ce-44cd-bd2e-a874027292dc",
   "metadata": {},
   "outputs": [
    {
     "name": "stdout",
     "output_type": "stream",
     "text": [
      "[4, 16]\n"
     ]
    }
   ],
   "source": [
    "arr_3 = [a ** 2 for a in [2,3,4] if a % 2 == 0]\n",
    "print(arr_3)"
   ]
  }
 ],
 "metadata": {
  "kernelspec": {
   "display_name": "Python 3 (ipykernel)",
   "language": "python",
   "name": "python3"
  },
  "language_info": {
   "codemirror_mode": {
    "name": "ipython",
    "version": 3
   },
   "file_extension": ".py",
   "mimetype": "text/x-python",
   "name": "python",
   "nbconvert_exporter": "python",
   "pygments_lexer": "ipython3",
   "version": "3.12.4"
  }
 },
 "nbformat": 4,
 "nbformat_minor": 5
}
