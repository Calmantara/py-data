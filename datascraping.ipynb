{
 "cells": [
  {
   "cell_type": "code",
   "execution_count": 2,
   "metadata": {},
   "outputs": [],
   "source": [
    "from bs4 import BeautifulSoup\n",
    "import requests\n",
    "import re\n",
    "import pandas as pd"
   ]
  },
  {
   "cell_type": "code",
   "execution_count": 14,
   "metadata": {},
   "outputs": [
    {
     "data": {
      "text/plain": [
       "4"
      ]
     },
     "execution_count": 14,
     "metadata": {},
     "output_type": "execute_result"
    }
   ],
   "source": [
    "headers = {'Accept-Language': 'en-US,en;q=0.8'}\n",
    "url = 'https://www.carsome.id/beli-mobil-bekas'\n",
    "\n",
    "soups = []\n",
    "for i in range(1, 100):\n",
    "    page = requests.get(url + '?pageNo=' + str(i), headers=headers)\n",
    "    soup = BeautifulSoup(page.text, 'html.parser')\n",
    "    if soup.find(\"div\", class_=\"no-card__title\"):\n",
    "        break\n",
    "    soups.append(soup)\n",
    "len(soups)"
   ]
  },
  {
   "cell_type": "code",
   "execution_count": 41,
   "metadata": {},
   "outputs": [],
   "source": [
    "# scrap model and type of car\n",
    "car_type = []\n",
    "car_model = []\n",
    "car_link = []\n",
    "car_year = []\n",
    "\n",
    "elms = [] \n",
    "for soup in soups:\n",
    "    for elm in soup.find_all('a', class_='mod-b-card__title'):\n",
    "        elms.append(elm)\n",
    "\n",
    "for elm in elms:\n",
    "    # print(\"car_link:\",elm.get('href'))\n",
    "    car_link.append(\"https://carsome.id\"+elm.get('href'))\n",
    "    type_model = elm.find_all('p')\n",
    "    # print(\"car_type:\", type_model[0].text)\n",
    "    split_text = type_model[0].text.replace(\"\\n\", \"\").split()\n",
    "    car_year.append(split_text[0])\n",
    "    car_type.append(split_text[1])\n",
    "    \n",
    "    # print(\"car_model:\", type_model[1].text)\n",
    "    # process car model\n",
    "    split_text = type_model[1].text.replace(\"\\n\", \"\").split()\n",
    "    car_model.append(\" \".join(split_text))"
   ]
  },
  {
   "cell_type": "code",
   "execution_count": 17,
   "metadata": {},
   "outputs": [],
   "source": [
    "# scrap mileage, transmission, location\n",
    "car_mileage = []\n",
    "car_transmission = []\n",
    "car_location = []\n",
    "\n",
    "\n",
    "elms = [] \n",
    "for soup in soups:\n",
    "    for elm in soup.find_all('div', class_='mod-b-card__car-other'):\n",
    "        elms.append(elm)\n",
    "\n",
    "for elm in elms:\n",
    "    spans = elm.find_all('span')\n",
    "    # print(\"mileage:\", spans[0].text)\n",
    "    car_mileage.append(spans[0].text)\n",
    "    # print(\"transmission:\", spans[1].text)\n",
    "    car_transmission.append(spans[1].text)\n",
    "    # print(\"location:\", spans[2].text)\n",
    "    car_location.append(spans[2].text)"
   ]
  },
  {
   "cell_type": "code",
   "execution_count": 18,
   "metadata": {},
   "outputs": [],
   "source": [
    "# scrap price\n",
    "car_price = []\n",
    "elms = [] \n",
    "for soup in soups:\n",
    "    for elm in soup.select('div.mod-card__price__total strong'):\n",
    "        elms.append(elm)\n",
    "\n",
    "for elm in elms:\n",
    "    # print(\"Rp\", elm.text)\n",
    "    car_price.append(elm.text)"
   ]
  },
  {
   "cell_type": "code",
   "execution_count": 42,
   "metadata": {},
   "outputs": [
    {
     "data": {
      "text/html": [
       "<div>\n",
       "<style scoped>\n",
       "    .dataframe tbody tr th:only-of-type {\n",
       "        vertical-align: middle;\n",
       "    }\n",
       "\n",
       "    .dataframe tbody tr th {\n",
       "        vertical-align: top;\n",
       "    }\n",
       "\n",
       "    .dataframe thead th {\n",
       "        text-align: right;\n",
       "    }\n",
       "</style>\n",
       "<table border=\"1\" class=\"dataframe\">\n",
       "  <thead>\n",
       "    <tr style=\"text-align: right;\">\n",
       "      <th></th>\n",
       "      <th>car_model</th>\n",
       "      <th>car_type</th>\n",
       "      <th>car_year</th>\n",
       "      <th>car_mileage</th>\n",
       "      <th>car_location</th>\n",
       "      <th>car_price</th>\n",
       "      <th>car_link</th>\n",
       "      <th>car_transmission</th>\n",
       "    </tr>\n",
       "  </thead>\n",
       "  <tbody>\n",
       "    <tr>\n",
       "      <th>0</th>\n",
       "      <td>XPANDER ULTIMATE 1.5</td>\n",
       "      <td>Mitsubishi</td>\n",
       "      <td>2018</td>\n",
       "      <td>93.142 km</td>\n",
       "      <td>Tangerang Selatan</td>\n",
       "      <td>200.000.000</td>\n",
       "      <td>https://carsome.id/beli-mobil-bekas/mitsubishi...</td>\n",
       "      <td>Automatic</td>\n",
       "    </tr>\n",
       "    <tr>\n",
       "      <th>1</th>\n",
       "      <td>GLA 200 AMG 1.6</td>\n",
       "      <td>Mercedes-Benz</td>\n",
       "      <td>2018</td>\n",
       "      <td>33.827 km</td>\n",
       "      <td>Jakarta Utara</td>\n",
       "      <td>469.000.000</td>\n",
       "      <td>https://carsome.id/beli-mobil-bekas/mercedes-b...</td>\n",
       "      <td>Automatic</td>\n",
       "    </tr>\n",
       "    <tr>\n",
       "      <th>2</th>\n",
       "      <td>AYLA R 1.2</td>\n",
       "      <td>Daihatsu</td>\n",
       "      <td>2020</td>\n",
       "      <td>54.801 km</td>\n",
       "      <td>Bekasi</td>\n",
       "      <td>133.000.000</td>\n",
       "      <td>https://carsome.id/beli-mobil-bekas/daihatsu/a...</td>\n",
       "      <td>Automatic</td>\n",
       "    </tr>\n",
       "    <tr>\n",
       "      <th>3</th>\n",
       "      <td>HR-V SE 1.5</td>\n",
       "      <td>Honda</td>\n",
       "      <td>2019</td>\n",
       "      <td>95.389 km</td>\n",
       "      <td>Jakarta Utara</td>\n",
       "      <td>240.000.000</td>\n",
       "      <td>https://carsome.id/beli-mobil-bekas/honda/hr-v...</td>\n",
       "      <td>Automatic</td>\n",
       "    </tr>\n",
       "    <tr>\n",
       "      <th>4</th>\n",
       "      <td>XENIA R DLX 1.3</td>\n",
       "      <td>Daihatsu</td>\n",
       "      <td>2013</td>\n",
       "      <td>140.903 km</td>\n",
       "      <td>Tangerang Selatan</td>\n",
       "      <td>96.000.000</td>\n",
       "      <td>https://carsome.id/beli-mobil-bekas/daihatsu/x...</td>\n",
       "      <td>Automatic</td>\n",
       "    </tr>\n",
       "  </tbody>\n",
       "</table>\n",
       "</div>"
      ],
      "text/plain": [
       "              car_model       car_type car_year car_mileage  \\\n",
       "0  XPANDER ULTIMATE 1.5     Mitsubishi     2018   93.142 km   \n",
       "1       GLA 200 AMG 1.6  Mercedes-Benz     2018   33.827 km   \n",
       "2            AYLA R 1.2       Daihatsu     2020   54.801 km   \n",
       "3           HR-V SE 1.5          Honda     2019   95.389 km   \n",
       "4       XENIA R DLX 1.3       Daihatsu     2013  140.903 km   \n",
       "\n",
       "        car_location    car_price  \\\n",
       "0  Tangerang Selatan  200.000.000   \n",
       "1      Jakarta Utara  469.000.000   \n",
       "2             Bekasi  133.000.000   \n",
       "3      Jakarta Utara  240.000.000   \n",
       "4  Tangerang Selatan   96.000.000   \n",
       "\n",
       "                                            car_link car_transmission  \n",
       "0  https://carsome.id/beli-mobil-bekas/mitsubishi...        Automatic  \n",
       "1  https://carsome.id/beli-mobil-bekas/mercedes-b...        Automatic  \n",
       "2  https://carsome.id/beli-mobil-bekas/daihatsu/a...        Automatic  \n",
       "3  https://carsome.id/beli-mobil-bekas/honda/hr-v...        Automatic  \n",
       "4  https://carsome.id/beli-mobil-bekas/daihatsu/x...        Automatic  "
      ]
     },
     "execution_count": 42,
     "metadata": {},
     "output_type": "execute_result"
    }
   ],
   "source": [
    "# create dataframe\n",
    "car_df = pd.DataFrame({\n",
    "    \"car_model\": car_model,\n",
    "    \"car_type\": car_type,\n",
    "    \"car_year\": car_year,\n",
    "    \"car_mileage\": car_mileage,\n",
    "    \"car_location\": car_location,\n",
    "    \"car_price\": car_price,\n",
    "    \"car_link\": car_link, \n",
    "    \"car_transmission\": car_transmission\n",
    "})\n",
    "car_df[\"car_model\"].str.strip()\n",
    "car_df[\"car_type\"].str.strip()\n",
    "car_df.head()"
   ]
  },
  {
   "cell_type": "code",
   "execution_count": 43,
   "metadata": {},
   "outputs": [],
   "source": [
    "car_df.to_csv('carsome.csv', index=False)"
   ]
  }
 ],
 "metadata": {
  "kernelspec": {
   "display_name": "py_data",
   "language": "python",
   "name": "python3"
  },
  "language_info": {
   "codemirror_mode": {
    "name": "ipython",
    "version": 3
   },
   "file_extension": ".py",
   "mimetype": "text/x-python",
   "name": "python",
   "nbconvert_exporter": "python",
   "pygments_lexer": "ipython3",
   "version": "3.12.4"
  }
 },
 "nbformat": 4,
 "nbformat_minor": 2
}
