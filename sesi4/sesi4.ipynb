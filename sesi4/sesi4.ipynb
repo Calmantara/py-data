{
 "cells": [
  {
   "cell_type": "code",
   "execution_count": 3,
   "id": "48a16667-88e7-4ba0-9264-7f06f03acd61",
   "metadata": {},
   "outputs": [],
   "source": [
    "import numpy as np"
   ]
  },
  {
   "cell_type": "code",
   "execution_count": 9,
   "id": "ee087d1e-291a-4510-b97d-12f9f6a55b30",
   "metadata": {},
   "outputs": [],
   "source": [
    "arr = np.array([1,2,3])"
   ]
  },
  {
   "cell_type": "code",
   "execution_count": 10,
   "id": "7025139a-992e-48f0-80d2-b7df06cb7c04",
   "metadata": {},
   "outputs": [
    {
     "name": "stdout",
     "output_type": "stream",
     "text": [
      "<class 'numpy.ndarray'>\n"
     ]
    }
   ],
   "source": [
    "print(type(arr))"
   ]
  },
  {
   "cell_type": "code",
   "execution_count": 12,
   "id": "2d80d064-2555-4e00-acc7-432ed0ed8e4d",
   "metadata": {},
   "outputs": [],
   "source": [
    "# ndarray => n dimentional array\n",
    "arr = np.array([[1,2,3], [4,5,6]])"
   ]
  },
  {
   "cell_type": "code",
   "execution_count": 13,
   "id": "1348a7c5-6555-417f-8bbd-70376ec26862",
   "metadata": {},
   "outputs": [
    {
     "name": "stdout",
     "output_type": "stream",
     "text": [
      "[[1 2 3]\n",
      " [4 5 6]]\n"
     ]
    }
   ],
   "source": [
    "print(arr)"
   ]
  },
  {
   "cell_type": "code",
   "execution_count": 15,
   "id": "6dfce98d-717e-44c3-b265-8f761fcc10fd",
   "metadata": {},
   "outputs": [
    {
     "name": "stdout",
     "output_type": "stream",
     "text": [
      "[1 2 3]\n",
      "3\n"
     ]
    }
   ],
   "source": [
    "# bagaimana kita mengakses arr\n",
    "# 1. cara biasa seperti list\n",
    "print(arr[0])\n",
    "print(arr[0, 2])"
   ]
  },
  {
   "cell_type": "code",
   "execution_count": 16,
   "id": "8f9b6c7f-225c-4c18-aec5-56ace3f7066b",
   "metadata": {},
   "outputs": [],
   "source": [
    "# 1 dimensi array\n",
    "arr = np.array([1,2,3,4,5,6])"
   ]
  },
  {
   "cell_type": "code",
   "execution_count": 19,
   "id": "81c1dee9-6e41-4c6e-a0e3-2a485834857b",
   "metadata": {},
   "outputs": [
    {
     "name": "stdout",
     "output_type": "stream",
     "text": [
      "[1 2 6]\n"
     ]
    }
   ],
   "source": [
    "# 2. cara masking\n",
    "mask = np.array([True, True, False, False, False, True])\n",
    "print(arr[mask])"
   ]
  },
  {
   "cell_type": "code",
   "execution_count": 23,
   "id": "af648d7a-52ed-48f4-9a5f-57ce7731acf7",
   "metadata": {},
   "outputs": [
    {
     "name": "stdout",
     "output_type": "stream",
     "text": [
      "[3 6 6]\n"
     ]
    }
   ],
   "source": [
    "# 3. mengeluarkan multi index\n",
    "idxs = np.array([2, 5, -1])\n",
    "print(arr[idxs])"
   ]
  },
  {
   "cell_type": "code",
   "execution_count": 33,
   "id": "e920dedd-d54e-411e-b546-308e4ad1da9b",
   "metadata": {},
   "outputs": [
    {
     "name": "stdout",
     "output_type": "stream",
     "text": [
      "[3 6]\n"
     ]
    }
   ],
   "source": [
    "# Terminology dan Methods\n",
    "arr = np.array([[1,2,3], [4,5,6]])\n",
    "print(arr.max(axis=1))"
   ]
  },
  {
   "cell_type": "code",
   "execution_count": 36,
   "id": "70fbbd3b-3753-4f88-b04d-73b34a8e0af3",
   "metadata": {},
   "outputs": [
    {
     "name": "stdout",
     "output_type": "stream",
     "text": [
      "3\n",
      "3\n"
     ]
    }
   ],
   "source": [
    "# print dimensi\n",
    "print(arr.ndim)\n",
    "arr = np.array([[[1,2,3],[1,2,3],[1,2,3], [1,2,3]], [[4,5,6],[4,5,6],[4,5,6], [4,5,6]]])\n",
    "print(arr.ndim)"
   ]
  },
  {
   "cell_type": "code",
   "execution_count": 37,
   "id": "925759ef-ab1b-4b7e-875a-696ac24f043c",
   "metadata": {},
   "outputs": [
    {
     "name": "stdout",
     "output_type": "stream",
     "text": [
      "(2, 4, 3)\n"
     ]
    }
   ],
   "source": [
    "# print ukuran dari array\n",
    "print(arr.shape)"
   ]
  },
  {
   "cell_type": "code",
   "execution_count": 41,
   "id": "082f2aaa-5746-40a1-a3c1-30de89d77a75",
   "metadata": {},
   "outputs": [
    {
     "name": "stdout",
     "output_type": "stream",
     "text": [
      "['a']\n"
     ]
    }
   ],
   "source": [
    "arr_str = np.array([\"a\"])\n",
    "print(arr_str)"
   ]
  },
  {
   "cell_type": "code",
   "execution_count": 55,
   "id": "2467c2a1-be5c-4440-9d5f-573902c9cec1",
   "metadata": {},
   "outputs": [],
   "source": [
    "# Membuat Array\n",
    "# 1. menggunakan np.array\n",
    "arr = np.array([])\n",
    "# 2. zero array\n",
    "arr_zero = np.zeros(1)\n",
    "# 3. array one\n",
    "arr_one = np.ones(1)\n",
    "# 4. empty\n",
    "arr_empty = np.empty((4,4))\n",
    "# 5. arange [start], stop, [step]\n",
    "arr_range = np.arange(0, 10, 1)"
   ]
  },
  {
   "cell_type": "code",
   "execution_count": 54,
   "id": "2352605e-c547-4848-9883-c2b4ef108fa6",
   "metadata": {},
   "outputs": [
    {
     "name": "stdout",
     "output_type": "stream",
     "text": [
      "[] [0.] [1.] [[0. 0. 0. 0.]\n",
      " [0. 0. 0. 0.]\n",
      " [0. 0. 0. 0.]\n",
      " [0. 0. 0. 0.]] [0 1 2 3 4 5 6 7 8 9]\n"
     ]
    }
   ],
   "source": [
    "print(arr, arr_zero, arr_one, arr_empty, arr_range)"
   ]
  },
  {
   "cell_type": "code",
   "execution_count": 62,
   "id": "458918c4-7bb4-4a52-909f-b213af5922f0",
   "metadata": {},
   "outputs": [
    {
     "name": "stdout",
     "output_type": "stream",
     "text": [
      "[1. 2. 3.]\n",
      "[0 5 6 7 8 9]\n",
      "[0 1 2 3 4 5 6 7 8 9]\n"
     ]
    }
   ],
   "source": [
    "# Methods numpy bukan punya ndarray\n",
    "print(np.append(arr, [1,2,3]))\n",
    "print(np.delete(arr_range, [1, 2, 3, 4]))\n",
    "print(np.sort(arr_range, ))\n",
    "\n",
    "# DOCUMENTATION: https://numpy.org/doc/stable/reference/index.html"
   ]
  },
  {
   "cell_type": "code",
   "execution_count": 66,
   "id": "e9648e7b-339e-4763-9837-243eeab0fa22",
   "metadata": {},
   "outputs": [
    {
     "name": "stdout",
     "output_type": "stream",
     "text": [
      "[ 0  1  2  3  4  5  6  7  8  9 10 11 12 13 14 15 16 17 18 19 20 21 22 23\n",
      " 24 25 26 27 28 29 30 31]\n"
     ]
    }
   ],
   "source": [
    "# reshape => mengubah dimensi array\n",
    "arr = np.arange(0, 32, 1)\n",
    "print(arr)"
   ]
  },
  {
   "cell_type": "code",
   "execution_count": 67,
   "id": "26454b2f-9100-4b29-8a0c-306a882f9514",
   "metadata": {},
   "outputs": [
    {
     "name": "stdout",
     "output_type": "stream",
     "text": [
      "32\n"
     ]
    }
   ],
   "source": [
    "print(arr.size)"
   ]
  },
  {
   "cell_type": "code",
   "execution_count": 150,
   "id": "c050b40e-d797-4972-863f-bf13eb3c01cf",
   "metadata": {},
   "outputs": [
    {
     "ename": "ValueError",
     "evalue": "cannot reshape array of size 3 into shape (8,4)",
     "output_type": "error",
     "traceback": [
      "\u001b[0;31m---------------------------------------------------------------------------\u001b[0m",
      "\u001b[0;31mValueError\u001b[0m                                Traceback (most recent call last)",
      "Cell \u001b[0;32mIn[150], line 1\u001b[0m\n\u001b[0;32m----> 1\u001b[0m arr\u001b[38;5;241m.\u001b[39mreshape((\u001b[38;5;241m8\u001b[39m, \u001b[38;5;241m4\u001b[39m))\n",
      "\u001b[0;31mValueError\u001b[0m: cannot reshape array of size 3 into shape (8,4)"
     ]
    }
   ],
   "source": [
    "arr.reshape((8, 4))\n",
    "# untuk menghindari unbalance array size\n",
    "# kita bisa menggunakan data cleansing"
   ]
  },
  {
   "cell_type": "code",
   "execution_count": 71,
   "id": "19fc4ff5-da69-4c62-8f54-fd121a23ab0a",
   "metadata": {},
   "outputs": [
    {
     "data": {
      "text/plain": [
       "array([[[ 0,  1],\n",
       "        [ 2,  3]],\n",
       "\n",
       "       [[ 4,  5],\n",
       "        [ 6,  7]],\n",
       "\n",
       "       [[ 8,  9],\n",
       "        [10, 11]],\n",
       "\n",
       "       [[12, 13],\n",
       "        [14, 15]],\n",
       "\n",
       "       [[16, 17],\n",
       "        [18, 19]],\n",
       "\n",
       "       [[20, 21],\n",
       "        [22, 23]],\n",
       "\n",
       "       [[24, 25],\n",
       "        [26, 27]],\n",
       "\n",
       "       [[28, 29],\n",
       "        [30, 31]]])"
      ]
     },
     "execution_count": 71,
     "metadata": {},
     "output_type": "execute_result"
    }
   ],
   "source": [
    "arr.reshape((8, 2, 2))"
   ]
  },
  {
   "cell_type": "code",
   "execution_count": 72,
   "id": "c210096c-6517-4a46-af7e-585ca954b35e",
   "metadata": {},
   "outputs": [
    {
     "name": "stdout",
     "output_type": "stream",
     "text": [
      "[ 0  1  2  3  4  5  6  7  8  9 10 11 12 13 14 15 16 17 18 19 20 21 22 23\n",
      " 24 25 26 27 28 29 30 31]\n"
     ]
    }
   ],
   "source": [
    "print(arr)"
   ]
  },
  {
   "cell_type": "code",
   "execution_count": 73,
   "id": "1f1a3221-a2db-4e17-8630-3d452db02823",
   "metadata": {},
   "outputs": [
    {
     "data": {
      "text/plain": [
       "array([[ 0,  1,  2,  3],\n",
       "       [ 4,  5,  6,  7],\n",
       "       [ 8,  9, 10, 11],\n",
       "       [12, 13, 14, 15],\n",
       "       [16, 17, 18, 19],\n",
       "       [20, 21, 22, 23],\n",
       "       [24, 25, 26, 27],\n",
       "       [28, 29, 30, 31]])"
      ]
     },
     "execution_count": 73,
     "metadata": {},
     "output_type": "execute_result"
    }
   ],
   "source": [
    "np.reshape(arr, (8,4))"
   ]
  },
  {
   "cell_type": "code",
   "execution_count": 74,
   "id": "2c3c9e65-d6ce-4ae2-a7ca-4cc36401ade5",
   "metadata": {},
   "outputs": [
    {
     "data": {
      "text/plain": [
       "array([[ 0],\n",
       "       [ 1],\n",
       "       [ 2],\n",
       "       [ 3],\n",
       "       [ 4],\n",
       "       [ 5],\n",
       "       [ 6],\n",
       "       [ 7],\n",
       "       [ 8],\n",
       "       [ 9],\n",
       "       [10],\n",
       "       [11],\n",
       "       [12],\n",
       "       [13],\n",
       "       [14],\n",
       "       [15],\n",
       "       [16],\n",
       "       [17],\n",
       "       [18],\n",
       "       [19],\n",
       "       [20],\n",
       "       [21],\n",
       "       [22],\n",
       "       [23],\n",
       "       [24],\n",
       "       [25],\n",
       "       [26],\n",
       "       [27],\n",
       "       [28],\n",
       "       [29],\n",
       "       [30],\n",
       "       [31]])"
      ]
     },
     "execution_count": 74,
     "metadata": {},
     "output_type": "execute_result"
    }
   ],
   "source": [
    "# Converting Array Dimension\n",
    "arr.reshape((32, 1))"
   ]
  },
  {
   "cell_type": "code",
   "execution_count": 78,
   "id": "658b3268-75cd-479b-b23a-e7edec6fb210",
   "metadata": {},
   "outputs": [
    {
     "name": "stdout",
     "output_type": "stream",
     "text": [
      "None\n",
      "[[ 0]\n",
      " [ 1]\n",
      " [ 2]\n",
      " [ 3]\n",
      " [ 4]\n",
      " [ 5]\n",
      " [ 6]\n",
      " [ 7]\n",
      " [ 8]\n",
      " [ 9]\n",
      " [10]\n",
      " [11]\n",
      " [12]\n",
      " [13]\n",
      " [14]\n",
      " [15]\n",
      " [16]\n",
      " [17]\n",
      " [18]\n",
      " [19]\n",
      " [20]\n",
      " [21]\n",
      " [22]\n",
      " [23]\n",
      " [24]\n",
      " [25]\n",
      " [26]\n",
      " [27]\n",
      " [28]\n",
      " [29]\n",
      " [30]\n",
      " [31]]\n"
     ]
    }
   ],
   "source": [
    "print(np.newaxis)\n",
    "arr_2d = arr[:, np.newaxis]\n",
    "print(arr_2d)"
   ]
  },
  {
   "cell_type": "code",
   "execution_count": 79,
   "id": "05ebc7fe-5e56-4169-8fda-d7f0868d70e9",
   "metadata": {},
   "outputs": [
    {
     "name": "stdout",
     "output_type": "stream",
     "text": [
      "[[ 0  1  2  3  4  5  6  7  8  9 10 11 12 13 14 15 16 17 18 19 20 21 22 23\n",
      "  24 25 26 27 28 29 30 31]]\n"
     ]
    }
   ],
   "source": [
    "arr_2d = arr[np.newaxis, :]\n",
    "print(arr_2d)"
   ]
  },
  {
   "cell_type": "code",
   "execution_count": 83,
   "id": "7be15850-154a-471e-8c82-c3c097c741fd",
   "metadata": {},
   "outputs": [
    {
     "name": "stdout",
     "output_type": "stream",
     "text": [
      "[0 1 2]\n",
      "[0 1 2 3 4]\n",
      "[3 4]\n",
      "[3 4]\n"
     ]
    }
   ],
   "source": [
    "# Indexing and Slicing\n",
    "# sifat yang sama dengan list => kita bisa slice\n",
    "arr = np.arange(0, 5, 1)\n",
    "print(arr[0:3])\n",
    "print(arr[:6])\n",
    "print(arr[3:])\n",
    "print(arr[-2:])"
   ]
  },
  {
   "cell_type": "code",
   "execution_count": 85,
   "id": "212bba67-5937-46fe-94ee-29b252ec6012",
   "metadata": {},
   "outputs": [
    {
     "name": "stdout",
     "output_type": "stream",
     "text": [
      "[ 0  1  2  3  4  5  6  7  8  9 10 11 12 13 14 15 16 17 18 19 20 21 22 23\n",
      " 24 25 26 27 28 29 30 31 32 33 34 35 36 37 38 39 40 41 42 43 44 45 46 47\n",
      " 48 49 50 51 52 53 54 55 56 57 58 59 60 61 62 63 64 65 66 67 68 69 70 71\n",
      " 72 73 74 75 76 77 78 79 80 81 82 83 84 85 86 87 88 89 90 91 92 93 94 95\n",
      " 96 97 98 99]\n"
     ]
    }
   ],
   "source": [
    "arr = np.arange(0, 100, 1)\n",
    "print(arr)"
   ]
  },
  {
   "cell_type": "code",
   "execution_count": 89,
   "id": "8e38e1d5-c7a1-4b89-97b6-1d3ad147c7a1",
   "metadata": {},
   "outputs": [
    {
     "name": "stdout",
     "output_type": "stream",
     "text": [
      "[ 0  3  6  9 12 15 18 21 24 27 30 33 36 39 42 45 48 51 54 57 60 63 66 69\n",
      " 72 75 78 81 84 87 90 93 96 99]\n",
      "[ True False False  True False False  True False False  True False False\n",
      "  True False False  True False False  True False False  True False False\n",
      "  True False False  True False False  True False False  True False False\n",
      "  True False False  True False False  True False False  True False False\n",
      "  True False False  True False False  True False False  True False False\n",
      "  True False False  True False False  True False False  True False False\n",
      "  True False False  True False False  True False False  True False False\n",
      "  True False False  True False False  True False False  True False False\n",
      "  True False False  True]\n"
     ]
    }
   ],
   "source": [
    "print(arr[arr % 3 == 0])\n",
    "print(arr % 3 == 0)"
   ]
  },
  {
   "cell_type": "code",
   "execution_count": 92,
   "id": "c6e5cf43-7efe-4fec-8228-ecc28907bc44",
   "metadata": {},
   "outputs": [
    {
     "name": "stdout",
     "output_type": "stream",
     "text": [
      "[1, 2, 3]\n"
     ]
    },
    {
     "ename": "TypeError",
     "evalue": "unsupported operand type(s) for %: 'list' and 'int'",
     "output_type": "error",
     "traceback": [
      "\u001b[0;31m---------------------------------------------------------------------------\u001b[0m",
      "\u001b[0;31mTypeError\u001b[0m                                 Traceback (most recent call last)",
      "Cell \u001b[0;32mIn[92], line 4\u001b[0m\n\u001b[1;32m      2\u001b[0m \u001b[38;5;28mlist\u001b[39m \u001b[38;5;241m=\u001b[39m [\u001b[38;5;241m1\u001b[39m,\u001b[38;5;241m2\u001b[39m,\u001b[38;5;241m3\u001b[39m]\n\u001b[1;32m      3\u001b[0m \u001b[38;5;28mprint\u001b[39m(\u001b[38;5;28mlist\u001b[39m)\n\u001b[0;32m----> 4\u001b[0m \u001b[38;5;28mprint\u001b[39m(\u001b[38;5;28mlist\u001b[39m \u001b[38;5;241m%\u001b[39m \u001b[38;5;241m3\u001b[39m)\n",
      "\u001b[0;31mTypeError\u001b[0m: unsupported operand type(s) for %: 'list' and 'int'"
     ]
    }
   ],
   "source": [
    "# tidak bisa dilakukan hal diatas pada list\n",
    "list = [1,2,3]\n",
    "print(list)\n",
    "print(list % 3)"
   ]
  },
  {
   "cell_type": "code",
   "execution_count": 102,
   "id": "a251cd06-3d9d-4d3f-9939-c99b70a434ed",
   "metadata": {},
   "outputs": [
    {
     "name": "stdout",
     "output_type": "stream",
     "text": [
      "[0 1 2 3 4] [5 6 7 8 9]\n"
     ]
    }
   ],
   "source": [
    "# Stacking Array\n",
    "arr1 = np.arange(0, 5, 1)\n",
    "arr2 = np.arange(5, 10, 1)\n",
    "print(arr1, arr2)"
   ]
  },
  {
   "cell_type": "code",
   "execution_count": 103,
   "id": "588c435e-344b-4007-9be4-345d4bd0a230",
   "metadata": {},
   "outputs": [
    {
     "data": {
      "text/plain": [
       "array([[0, 1, 2, 3, 4],\n",
       "       [5, 6, 7, 8, 9]])"
      ]
     },
     "execution_count": 103,
     "metadata": {},
     "output_type": "execute_result"
    }
   ],
   "source": [
    "np.vstack((arr1, arr2))"
   ]
  },
  {
   "cell_type": "code",
   "execution_count": 104,
   "id": "94479be8-d4f5-44e5-b820-de88d8a38264",
   "metadata": {},
   "outputs": [
    {
     "data": {
      "text/plain": [
       "array([0, 1, 2, 3, 4, 5, 6, 7, 8, 9])"
      ]
     },
     "execution_count": 104,
     "metadata": {},
     "output_type": "execute_result"
    }
   ],
   "source": [
    "np.hstack((arr1, arr2))"
   ]
  },
  {
   "cell_type": "code",
   "execution_count": null,
   "id": "9a4059c0-90a5-49b6-8c32-a790ace446f4",
   "metadata": {},
   "outputs": [],
   "source": []
  },
  {
   "cell_type": "code",
   "execution_count": 107,
   "id": "2b0cbf1f-a35e-4022-99d2-d9282cad8b83",
   "metadata": {},
   "outputs": [
    {
     "data": {
      "text/plain": [
       "5"
      ]
     },
     "execution_count": 107,
     "metadata": {},
     "output_type": "execute_result"
    }
   ],
   "source": [
    "arr3 = np.vstack((arr1, arr2))\n",
    "arr3_splitted = np.vsplit(arr3, 2)\n",
    "arr3_splitted[0].size"
   ]
  },
  {
   "cell_type": "code",
   "execution_count": 111,
   "id": "0fc1e7a1-e775-4a93-9c13-0844d8e688af",
   "metadata": {},
   "outputs": [
    {
     "name": "stdout",
     "output_type": "stream",
     "text": [
      "[4 2 3] [4 2 3]\n"
     ]
    }
   ],
   "source": [
    "# Mutable dan Immutable\n",
    "# array itu mutable\n",
    "arr = np.array([1,2,3])\n",
    "arr2 = arr.view()\n",
    "arr2[0] = 4\n",
    "print(arr, arr2)"
   ]
  },
  {
   "cell_type": "code",
   "execution_count": 112,
   "id": "16077f12-49f0-41b7-a6ca-72d2a03febeb",
   "metadata": {},
   "outputs": [
    {
     "name": "stdout",
     "output_type": "stream",
     "text": [
      "[1 2 3] [4 2 3]\n"
     ]
    }
   ],
   "source": [
    "# Shallow and Deep Copy\n",
    "arr = np.array([1,2,3])\n",
    "arr2 = arr.copy()\n",
    "arr2[0] = 4\n",
    "print(arr, arr2)"
   ]
  },
  {
   "cell_type": "code",
   "execution_count": 113,
   "id": "ee334841-2012-41b7-a763-73d89e2a278d",
   "metadata": {},
   "outputs": [
    {
     "name": "stdout",
     "output_type": "stream",
     "text": [
      "[5 4 6]\n"
     ]
    }
   ],
   "source": [
    "# Operasi matematika untuk array\n",
    "\n",
    "# penambahan\n",
    "print(arr + arr2)"
   ]
  },
  {
   "cell_type": "code",
   "execution_count": 114,
   "id": "d8b2d28a-f2d0-4899-b737-4999e4d469d8",
   "metadata": {},
   "outputs": [
    {
     "name": "stdout",
     "output_type": "stream",
     "text": [
      "[4 4 9]\n"
     ]
    }
   ],
   "source": [
    "# perkalian\n",
    "print(arr * arr2)"
   ]
  },
  {
   "cell_type": "code",
   "execution_count": 115,
   "id": "82cdbf1b-f397-4d4d-8f0a-c747680ba743",
   "metadata": {},
   "outputs": [
    {
     "name": "stdout",
     "output_type": "stream",
     "text": [
      "[1 0 0]\n"
     ]
    }
   ],
   "source": [
    "# modulo\n",
    "print(arr % arr2)"
   ]
  },
  {
   "cell_type": "code",
   "execution_count": 116,
   "id": "234fd0ed-bfb9-43c8-845b-d5767a33c037",
   "metadata": {},
   "outputs": [],
   "source": [
    "arr_2d = np.vstack((arr, arr2))\n",
    "arr_2d_2 = np.vstack((arr2, arr))"
   ]
  },
  {
   "cell_type": "code",
   "execution_count": 117,
   "id": "7184f668-bcaf-4100-af0a-dc32ac150138",
   "metadata": {},
   "outputs": [
    {
     "name": "stdout",
     "output_type": "stream",
     "text": [
      "[[5 4 6]\n",
      " [5 4 6]]\n"
     ]
    }
   ],
   "source": [
    "print(arr_2d + arr_2d_2)"
   ]
  },
  {
   "cell_type": "code",
   "execution_count": 118,
   "id": "b911f758-8e8c-4c2e-b87a-4ea3f66c4840",
   "metadata": {},
   "outputs": [
    {
     "data": {
      "text/plain": [
       "array([[1.        , 1.41421356, 1.73205081],\n",
       "       [2.        , 1.41421356, 1.73205081]])"
      ]
     },
     "execution_count": 118,
     "metadata": {},
     "output_type": "execute_result"
    }
   ],
   "source": [
    "np.sqrt(arr_2d)"
   ]
  },
  {
   "cell_type": "code",
   "execution_count": 119,
   "id": "ccabf90e-dd3c-4198-9eb4-d51ba55fffb3",
   "metadata": {},
   "outputs": [
    {
     "data": {
      "text/plain": [
       "array([[ 1,  4,  9],\n",
       "       [16,  4,  9]])"
      ]
     },
     "execution_count": 119,
     "metadata": {},
     "output_type": "execute_result"
    }
   ],
   "source": [
    "np.square(arr_2d)"
   ]
  },
  {
   "cell_type": "code",
   "execution_count": 120,
   "id": "ebc81201-71ca-4b9f-b12f-f7959bf56118",
   "metadata": {},
   "outputs": [
    {
     "name": "stdout",
     "output_type": "stream",
     "text": [
      "[[10 20 30]\n",
      " [40 20 30]]\n"
     ]
    }
   ],
   "source": [
    "# Broadcasting\n",
    "# operasi array dengan skalar\n",
    "print(arr_2d *  10)"
   ]
  },
  {
   "cell_type": "code",
   "execution_count": 122,
   "id": "ba07a21b-2b1d-47ef-ab73-5cf8d4b3bc4c",
   "metadata": {},
   "outputs": [
    {
     "name": "stdout",
     "output_type": "stream",
     "text": [
      "[[1 0 1]\n",
      " [0 0 1]]\n"
     ]
    }
   ],
   "source": [
    "print(arr_2d  % 2)"
   ]
  },
  {
   "cell_type": "code",
   "execution_count": 123,
   "id": "f28be56d-10cc-4b50-b4ba-ca69eac35d94",
   "metadata": {},
   "outputs": [
    {
     "name": "stdout",
     "output_type": "stream",
     "text": [
      "[1 2 3] [[1 2 3]\n",
      " [4 2 3]]\n"
     ]
    }
   ],
   "source": [
    "print(arr, arr_2d)"
   ]
  },
  {
   "cell_type": "code",
   "execution_count": 125,
   "id": "14d76ac1-d6b7-4908-8d8d-3a1b019409fb",
   "metadata": {},
   "outputs": [
    {
     "name": "stdout",
     "output_type": "stream",
     "text": [
      "[[2 4 6]\n",
      " [5 4 6]]\n"
     ]
    }
   ],
   "source": [
    "print(arr_2d + arr)"
   ]
  },
  {
   "cell_type": "code",
   "execution_count": 126,
   "id": "1cb10559-d503-468a-80bc-43eae32079ab",
   "metadata": {},
   "outputs": [
    {
     "name": "stdout",
     "output_type": "stream",
     "text": [
      "4\n"
     ]
    }
   ],
   "source": [
    "print(arr_2d.max())"
   ]
  },
  {
   "cell_type": "code",
   "execution_count": 127,
   "id": "bbdcd778-943b-417f-aeab-278216bae145",
   "metadata": {},
   "outputs": [
    {
     "name": "stdout",
     "output_type": "stream",
     "text": [
      "1\n"
     ]
    }
   ],
   "source": [
    "print(arr_2d.min())"
   ]
  },
  {
   "cell_type": "code",
   "execution_count": 130,
   "id": "5a33a967-0972-4cb6-a807-fc32745e298b",
   "metadata": {},
   "outputs": [
    {
     "name": "stdout",
     "output_type": "stream",
     "text": [
      "15\n",
      "[5 4 6]\n",
      "[6 9]\n"
     ]
    }
   ],
   "source": [
    "print(arr_2d.sum())\n",
    "print(arr_2d.sum(axis=0))\n",
    "print(arr_2d.sum(axis=1))"
   ]
  },
  {
   "cell_type": "code",
   "execution_count": 131,
   "id": "e19b8dc8-32b2-4d56-969a-b0acf2f5ab91",
   "metadata": {},
   "outputs": [
    {
     "name": "stdout",
     "output_type": "stream",
     "text": [
      "2.5\n"
     ]
    }
   ],
   "source": [
    "print(arr_2d.mean())"
   ]
  },
  {
   "cell_type": "code",
   "execution_count": 132,
   "id": "654b0b0b-0e94-41ed-a453-8e70a559da5e",
   "metadata": {},
   "outputs": [
    {
     "name": "stdout",
     "output_type": "stream",
     "text": [
      "0.9574271077563381\n"
     ]
    }
   ],
   "source": [
    "print(arr_2d.std())"
   ]
  },
  {
   "cell_type": "code",
   "execution_count": 133,
   "id": "729f1bb4-34e0-4be2-92ca-6446cd5bd69b",
   "metadata": {},
   "outputs": [
    {
     "name": "stdout",
     "output_type": "stream",
     "text": [
      "144\n"
     ]
    }
   ],
   "source": [
    "print(arr_2d.prod())"
   ]
  },
  {
   "cell_type": "code",
   "execution_count": null,
   "id": "7ee0b055-b6cd-49b4-9c73-35902e20f15e",
   "metadata": {},
   "outputs": [],
   "source": [
    "# Arr numpy == Matrix"
   ]
  },
  {
   "cell_type": "code",
   "execution_count": 141,
   "id": "799f6216-c36d-448d-b0ab-cbae21dc0585",
   "metadata": {},
   "outputs": [],
   "source": [
    "mat1 = np.random.random((3,3))\n",
    "mat2 = np.random.random((3,3))"
   ]
  },
  {
   "cell_type": "code",
   "execution_count": null,
   "id": "1006ddbe-71a4-4baa-bff4-89850a718950",
   "metadata": {},
   "outputs": [],
   "source": []
  },
  {
   "cell_type": "code",
   "execution_count": 142,
   "id": "80df406c-aa93-498c-bdec-526566c3a6c7",
   "metadata": {},
   "outputs": [
    {
     "name": "stdout",
     "output_type": "stream",
     "text": [
      "[[0.03174013 0.38610671 0.05213139]\n",
      " [0.86279876 0.51919653 0.99420762]\n",
      " [0.51779224 0.62749909 0.52782364]] [[0.26760102 0.30576203 0.9820428 ]\n",
      " [0.22361293 0.35681115 0.19821205]\n",
      " [0.64805984 0.83249029 0.11090114]]\n"
     ]
    }
   ],
   "source": [
    "print(mat1, mat2)"
   ]
  },
  {
   "cell_type": "code",
   "execution_count": null,
   "id": "eb83949a-d7d4-485e-a726-1b532cc96601",
   "metadata": {},
   "outputs": [],
   "source": []
  },
  {
   "cell_type": "code",
   "execution_count": 143,
   "id": "431c6202-085c-4313-b06c-bacb4c5294e9",
   "metadata": {},
   "outputs": [
    {
     "name": "stdout",
     "output_type": "stream",
     "text": [
      "[[0.29934115 0.69186874 1.03417419]\n",
      " [1.08641168 0.87600768 1.19241967]\n",
      " [1.16585208 1.45998938 0.63872478]]\n",
      "[[0.00849369 0.11805677 0.05119525]\n",
      " [0.19293296 0.18525511 0.19706393]\n",
      " [0.33556035 0.5223869  0.05853624]]\n",
      "[[0.1186099  1.26276864 0.05308464]\n",
      " [3.85844758 1.45510175 5.01587883]\n",
      " [0.79898831 0.75376145 4.75940693]]\n",
      "[[0.03174013 0.08034467 0.05213139]\n",
      " [0.19195998 0.16238538 0.00314738]\n",
      " [0.51779224 0.62749909 0.08421909]]\n"
     ]
    }
   ],
   "source": [
    "# operasi matrix\n",
    "print(mat1 + mat2)\n",
    "print(mat1 * mat2)\n",
    "print(mat1 / mat2)\n",
    "print(mat1 % mat2)"
   ]
  },
  {
   "cell_type": "code",
   "execution_count": 145,
   "id": "9b56f286-f1db-47cc-aecb-ba8b1bfbe095",
   "metadata": {},
   "outputs": [
    {
     "data": {
      "text/plain": [
       "0.05213138707643994"
      ]
     },
     "execution_count": 145,
     "metadata": {},
     "output_type": "execute_result"
    }
   ],
   "source": [
    "# slicing matrix\n",
    "mat1[0, 2]"
   ]
  },
  {
   "cell_type": "code",
   "execution_count": 147,
   "id": "37b49264-ce7c-410a-b98c-124181d39fd6",
   "metadata": {},
   "outputs": [
    {
     "data": {
      "text/plain": [
       "array([[0.03174013, 0.38610671, 0.05213139]])"
      ]
     },
     "execution_count": 147,
     "metadata": {},
     "output_type": "execute_result"
    }
   ],
   "source": [
    "mat1[:1]"
   ]
  },
  {
   "cell_type": "code",
   "execution_count": 149,
   "id": "c343c7e6-cbd4-4910-97a8-317b78e6a419",
   "metadata": {},
   "outputs": [
    {
     "name": "stdout",
     "output_type": "stream",
     "text": [
      "[[0.1286164  0.19087098 0.1134826 ]\n",
      " [0.99129091 1.2767344  1.06047507]\n",
      " [0.62093994 0.82162793 0.69140826]]\n"
     ]
    }
   ],
   "source": [
    "# dot product from 2 matrix\n",
    "dot_product= np.dot(mat1, mat2)\n",
    "print(dot_product)"
   ]
  },
  {
   "cell_type": "code",
   "execution_count": 151,
   "id": "75d7c397-b650-492e-9b20-49f460a1e2b8",
   "metadata": {},
   "outputs": [
    {
     "data": {
      "text/plain": [
       "array([[0.03174013, 0.38610671, 0.05213139],\n",
       "       [0.86279876, 0.51919653, 0.99420762],\n",
       "       [0.51779224, 0.62749909, 0.52782364]])"
      ]
     },
     "execution_count": 151,
     "metadata": {},
     "output_type": "execute_result"
    }
   ],
   "source": [
    "mat1"
   ]
  },
  {
   "cell_type": "code",
   "execution_count": 153,
   "id": "20f52e86-3c16-47fe-aeec-0c042995a157",
   "metadata": {},
   "outputs": [
    {
     "data": {
      "text/plain": [
       "array([[0.03174013, 0.86279876, 0.51779224],\n",
       "       [0.38610671, 0.51919653, 0.62749909],\n",
       "       [0.05213139, 0.99420762, 0.52782364]])"
      ]
     },
     "execution_count": 153,
     "metadata": {},
     "output_type": "execute_result"
    }
   ],
   "source": [
    "mat1_T = mat1.T\n",
    "mat1_T"
   ]
  },
  {
   "cell_type": "code",
   "execution_count": 156,
   "id": "f69815fe-2ce0-4644-90f0-ee11be4708ba",
   "metadata": {},
   "outputs": [
    {
     "data": {
      "text/plain": [
       "array([[ 0.15494416, -0.01478014,  0.01513027],\n",
       "       [-0.1903938 , -0.15753521,  0.24749686],\n",
       "       [-0.19355743, -0.24578681,  0.48208059]])"
      ]
     },
     "execution_count": 156,
     "metadata": {},
     "output_type": "execute_result"
    }
   ],
   "source": [
    "np.cross(mat1, mat1_T)"
   ]
  },
  {
   "cell_type": "code",
   "execution_count": 157,
   "id": "b99b9896-c49b-4173-96ae-b6dd600bec68",
   "metadata": {},
   "outputs": [
    {
     "data": {
      "text/plain": [
       "array([[0.03174013, 0.38610671, 0.05213139],\n",
       "       [0.86279876, 0.51919653, 0.99420762],\n",
       "       [0.51779224, 0.62749909, 0.52782364]])"
      ]
     },
     "execution_count": 157,
     "metadata": {},
     "output_type": "execute_result"
    }
   ],
   "source": [
    "mat1"
   ]
  },
  {
   "cell_type": "code",
   "execution_count": 164,
   "id": "38cd4cf0-bffa-4735-94c7-36f6cde77f91",
   "metadata": {},
   "outputs": [
    {
     "data": {
      "text/plain": [
       "array([1.00000000e+02, 3.86106706e-01, 5.21313871e-02, 8.62798757e-01,\n",
       "       5.19196528e-01, 9.94207619e-01, 5.17792237e-01, 6.27499090e-01,\n",
       "       5.27823640e-01])"
      ]
     },
     "execution_count": 164,
     "metadata": {},
     "output_type": "execute_result"
    }
   ],
   "source": [
    "mat1_f = mat1.flatten()\n",
    "mat1_f[0] = 100\n",
    "mat1_f"
   ]
  },
  {
   "cell_type": "code",
   "execution_count": 165,
   "id": "638f444d-a07a-42b5-92a8-975aae222141",
   "metadata": {},
   "outputs": [
    {
     "data": {
      "text/plain": [
       "array([[0.03174013, 0.38610671, 0.05213139],\n",
       "       [0.86279876, 0.51919653, 0.99420762],\n",
       "       [0.51779224, 0.62749909, 0.52782364]])"
      ]
     },
     "execution_count": 165,
     "metadata": {},
     "output_type": "execute_result"
    }
   ],
   "source": [
    "mat1"
   ]
  },
  {
   "cell_type": "code",
   "execution_count": 166,
   "id": "54f74895-6d94-497a-9b6f-89a08d374e1a",
   "metadata": {},
   "outputs": [
    {
     "data": {
      "text/plain": [
       "array([1.00000000e+02, 3.86106706e-01, 5.21313871e-02, 8.62798757e-01,\n",
       "       5.19196528e-01, 9.94207619e-01, 5.17792237e-01, 6.27499090e-01,\n",
       "       5.27823640e-01])"
      ]
     },
     "execution_count": 166,
     "metadata": {},
     "output_type": "execute_result"
    }
   ],
   "source": [
    "mat1_f = mat1.ravel()\n",
    "mat1_f[0] = 100\n",
    "mat1_f"
   ]
  },
  {
   "cell_type": "code",
   "execution_count": 167,
   "id": "4b6a386d-a01a-41d7-a938-268d098ce6eb",
   "metadata": {},
   "outputs": [
    {
     "data": {
      "text/plain": [
       "array([[1.00000000e+02, 3.86106706e-01, 5.21313871e-02],\n",
       "       [8.62798757e-01, 5.19196528e-01, 9.94207619e-01],\n",
       "       [5.17792237e-01, 6.27499090e-01, 5.27823640e-01]])"
      ]
     },
     "execution_count": 167,
     "metadata": {},
     "output_type": "execute_result"
    }
   ],
   "source": [
    "mat1"
   ]
  },
  {
   "cell_type": "code",
   "execution_count": 169,
   "id": "a2713b7c-01d3-4914-acd8-5e038af526b2",
   "metadata": {},
   "outputs": [],
   "source": [
    "# inverse matrix\n",
    "inv1 = np.linalg.inv(mat1) "
   ]
  },
  {
   "cell_type": "code",
   "execution_count": 172,
   "id": "f2909015-4d5d-41f3-b352-cb7df6fe81bb",
   "metadata": {},
   "outputs": [
    {
     "data": {
      "text/plain": [
       "array([[ 1.00000000e+00,  9.16269469e-17,  1.23411338e-16],\n",
       "       [-1.38679662e-18,  1.00000000e+00, -4.82825933e-17],\n",
       "       [-4.84313486e-19,  4.15455866e-17,  1.00000000e+00]])"
      ]
     },
     "execution_count": 172,
     "metadata": {},
     "output_type": "execute_result"
    }
   ],
   "source": [
    "np.dot(mat1, inv1)"
   ]
  }
 ],
 "metadata": {
  "kernelspec": {
   "display_name": "Python 3 (ipykernel)",
   "language": "python",
   "name": "python3"
  },
  "language_info": {
   "codemirror_mode": {
    "name": "ipython",
    "version": 3
   },
   "file_extension": ".py",
   "mimetype": "text/x-python",
   "name": "python",
   "nbconvert_exporter": "python",
   "pygments_lexer": "ipython3",
   "version": "3.12.4"
  }
 },
 "nbformat": 4,
 "nbformat_minor": 5
}
