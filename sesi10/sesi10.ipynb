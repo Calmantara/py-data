{
 "cells": [
  {
   "cell_type": "code",
   "execution_count": 144,
   "id": "bfc42114-36bf-4020-8a61-1c6c3eda4516",
   "metadata": {},
   "outputs": [],
   "source": [
    "import math\n",
    "import statistics\n",
    "import numpy as np\n",
    "import pandas as pd\n",
    "import scipy.stats"
   ]
  },
  {
   "cell_type": "code",
   "execution_count": 145,
   "id": "7a54e921-291c-432e-bbed-445eaf2bac6d",
   "metadata": {},
   "outputs": [],
   "source": [
    "x = [8.0, 1, 2.5, 4, 28.0]\n",
    "x_with_nan = [8.0, 1, 2.5, math.nan, 4, 28.0]"
   ]
  },
  {
   "cell_type": "code",
   "execution_count": 146,
   "id": "42a52da6-2107-4ee9-a2ea-297ef9051703",
   "metadata": {},
   "outputs": [
    {
     "name": "stdout",
     "output_type": "stream",
     "text": [
      "[8.0, 1, 2.5, 4, 28.0] [8.0, 1, 2.5, nan, 4, 28.0]\n"
     ]
    }
   ],
   "source": [
    "print(x, x_with_nan)"
   ]
  },
  {
   "cell_type": "code",
   "execution_count": 147,
   "id": "f4bff115-b81b-449b-9b8c-23d39e1f9164",
   "metadata": {},
   "outputs": [
    {
     "name": "stdout",
     "output_type": "stream",
     "text": [
      "[ 8.   1.   2.5  4.  28. ] [ 8.   1.   2.5  nan  4.  28. ]\n",
      "0     8.0\n",
      "1     1.0\n",
      "2     2.5\n",
      "3     4.0\n",
      "4    28.0\n",
      "dtype: float64 0     8.0\n",
      "1     1.0\n",
      "2     2.5\n",
      "3     NaN\n",
      "4     4.0\n",
      "5    28.0\n",
      "dtype: float64\n"
     ]
    }
   ],
   "source": [
    "# array \n",
    "y, y_with_nan = np.array(x), np.array(x_with_nan)\n",
    "print(y, y_with_nan)\n",
    "# series\n",
    "z, z_with_nan = pd.Series(x), pd.Series(x_with_nan)\n",
    "print(z, z_with_nan)"
   ]
  },
  {
   "cell_type": "code",
   "execution_count": 148,
   "id": "5e07500d-3b27-4488-b091-036b83934043",
   "metadata": {},
   "outputs": [
    {
     "name": "stdout",
     "output_type": "stream",
     "text": [
      "normal calculation 8.7\n",
      "normal calculation with nan nan\n",
      "mean with statistic 8.7\n",
      "mean with statistic nan\n"
     ]
    }
   ],
   "source": [
    "# mean\n",
    "mean = sum(x) / len(x)\n",
    "print(\"normal calculation\", mean)\n",
    "\n",
    "mean = sum(x_with_nan) / len(x_with_nan)\n",
    "print(\"normal calculation with nan\", mean)\n",
    "\n",
    "# dengan statistic\n",
    "mean = statistics.mean(x)\n",
    "print(\"mean with statistic\", mean)\n",
    "\n",
    "mean = statistics.mean(x_with_nan)\n",
    "print(\"mean with statistic\", mean)\n"
   ]
  },
  {
   "cell_type": "code",
   "execution_count": 149,
   "id": "7ec54950-59e0-4c53-b779-64a8ac763b21",
   "metadata": {},
   "outputs": [
    {
     "name": "stdout",
     "output_type": "stream",
     "text": [
      "mean array 8.7\n",
      "mean array with nan nan\n",
      "mean array 8.7\n",
      "mean array with nan 8.7\n"
     ]
    }
   ],
   "source": [
    "# array\n",
    "print(\"mean array\", y.mean())\n",
    "print(\"mean array with nan\", y_with_nan.mean())\n",
    "\n",
    "# series\n",
    "print(\"mean array\", z.mean())\n",
    "print(\"mean array with nan\", z_with_nan.mean())"
   ]
  },
  {
   "cell_type": "code",
   "execution_count": 150,
   "id": "9a85f665-b51e-46f8-9f16-245c638d72f5",
   "metadata": {},
   "outputs": [
    {
     "name": "stdout",
     "output_type": "stream",
     "text": [
      "normal wmean 6.95\n"
     ]
    }
   ],
   "source": [
    "# Weighted Mean\n",
    "x = [8.0, 1, 2.5, 4, 28.0]\n",
    "w = [0.1, 0.2, 0.3, 0.25, 0.15]\n",
    "\n",
    "wmean = sum(x_ * w_ for (x_, w_) in zip(x, w)) / sum(w)\n",
    "print(\"normal wmean\", wmean)"
   ]
  },
  {
   "cell_type": "code",
   "execution_count": 151,
   "id": "1f89feb1-4403-4a33-9700-ee547c901261",
   "metadata": {},
   "outputs": [
    {
     "name": "stdout",
     "output_type": "stream",
     "text": [
      "normal wmean array 6.95\n",
      "normal wmean series 6.95\n",
      "normal wmean dot 6.95\n"
     ]
    }
   ],
   "source": [
    "y = np.array(x)\n",
    "w = np.array(w)\n",
    "z = pd.Series(x)\n",
    "\n",
    "# numpy\n",
    "wmean = np.average(y, weights=w)\n",
    "print(\"normal wmean array\", wmean)\n",
    "\n",
    "wmean = np.average(z, weights=w)\n",
    "print(\"normal wmean series\", wmean)\n",
    "\n",
    "wmean = (y * w).sum() / w.sum()\n",
    "print(\"normal wmean dot\", wmean)"
   ]
  },
  {
   "cell_type": "code",
   "execution_count": 152,
   "id": "a42aa03e-ce50-45a2-ac9d-670712c76d19",
   "metadata": {},
   "outputs": [
    {
     "data": {
      "text/plain": [
       "2.7613412228796843"
      ]
     },
     "execution_count": 152,
     "metadata": {},
     "output_type": "execute_result"
    }
   ],
   "source": [
    "# harmonic mean with statistic\n",
    "statistics.harmonic_mean(x)"
   ]
  },
  {
   "cell_type": "code",
   "execution_count": 153,
   "id": "51d492d9-ba91-4101-ba6f-4467c6da5d26",
   "metadata": {},
   "outputs": [
    {
     "data": {
      "text/plain": [
       "2.7613412228796843"
      ]
     },
     "execution_count": 153,
     "metadata": {},
     "output_type": "execute_result"
    }
   ],
   "source": [
    "# harmonic mean normal (n / sum(1/xi))\n",
    "len(x) / sum(1/x_ for x_ in x)"
   ]
  },
  {
   "cell_type": "code",
   "execution_count": 154,
   "id": "7b3ad8f7-656c-45a1-a0cf-a8288d178bf9",
   "metadata": {},
   "outputs": [
    {
     "data": {
      "text/plain": [
       "2.7613412228796843"
      ]
     },
     "execution_count": 154,
     "metadata": {},
     "output_type": "execute_result"
    }
   ],
   "source": [
    "# array harmonic\n",
    "scipy.stats.hmean(y)"
   ]
  },
  {
   "cell_type": "code",
   "execution_count": 155,
   "id": "74386611-7f04-4592-bfbc-0efcfd230e1a",
   "metadata": {},
   "outputs": [
    {
     "data": {
      "text/plain": [
       "2.7613412228796843"
      ]
     },
     "execution_count": 155,
     "metadata": {},
     "output_type": "execute_result"
    }
   ],
   "source": [
    "# series harmonic\n",
    "scipy.stats.hmean(z)"
   ]
  },
  {
   "cell_type": "code",
   "execution_count": 156,
   "id": "835d02af-98e5-4744-b0fa-2e6fd04dce23",
   "metadata": {},
   "outputs": [
    {
     "data": {
      "text/plain": [
       "4.677885674856041"
      ]
     },
     "execution_count": 156,
     "metadata": {},
     "output_type": "execute_result"
    }
   ],
   "source": [
    "# normal geometric mean\n",
    "gmean = 1\n",
    "for x_ in x:\n",
    "    gmean *= x_\n",
    "gmean ** (1/len(x))"
   ]
  },
  {
   "cell_type": "code",
   "execution_count": 157,
   "id": "6233bb00-ca96-4ce5-b063-21fcc68da9bc",
   "metadata": {},
   "outputs": [
    {
     "data": {
      "text/plain": [
       "4.67788567485604"
      ]
     },
     "execution_count": 157,
     "metadata": {},
     "output_type": "execute_result"
    }
   ],
   "source": [
    "scipy.stats.gmean(x)"
   ]
  },
  {
   "cell_type": "code",
   "execution_count": 158,
   "id": "1c539a4d-caf5-40aa-95f6-3b80c93bce05",
   "metadata": {},
   "outputs": [
    {
     "data": {
      "text/plain": [
       "4.67788567485604"
      ]
     },
     "execution_count": 158,
     "metadata": {},
     "output_type": "execute_result"
    }
   ],
   "source": [
    "scipy.stats.gmean(y)"
   ]
  },
  {
   "cell_type": "code",
   "execution_count": 159,
   "id": "7a53666b-6abf-4823-912b-f60180422b4d",
   "metadata": {},
   "outputs": [
    {
     "data": {
      "text/plain": [
       "4.67788567485604"
      ]
     },
     "execution_count": 159,
     "metadata": {},
     "output_type": "execute_result"
    }
   ],
   "source": [
    "scipy.stats.gmean(z)"
   ]
  },
  {
   "cell_type": "code",
   "execution_count": 160,
   "id": "0dc343a0-042d-42c8-9266-621d391db460",
   "metadata": {},
   "outputs": [
    {
     "name": "stdout",
     "output_type": "stream",
     "text": [
      "4\n"
     ]
    }
   ],
   "source": [
    "# MEDIAN\n",
    "median = 0\n",
    "if len(x) % 2 == 0:\n",
    "    median = sorted(x)[round(0.5 * (len(x) - 1))]\n",
    "else:\n",
    "    mid = round(len(x)/2)\n",
    "    median = sorted(x)[mid]\n",
    "print(median)"
   ]
  },
  {
   "cell_type": "code",
   "execution_count": 161,
   "id": "f39692e9-c860-4a21-8992-dc523c3e6bc2",
   "metadata": {},
   "outputs": [
    {
     "data": {
      "text/plain": [
       "nan"
      ]
     },
     "execution_count": 161,
     "metadata": {},
     "output_type": "execute_result"
    }
   ],
   "source": [
    "np.median(x_with_nan)"
   ]
  },
  {
   "cell_type": "code",
   "execution_count": 162,
   "id": "bdc6e880-997d-4118-b068-efb5b9944c56",
   "metadata": {},
   "outputs": [
    {
     "data": {
      "text/plain": [
       "4.0"
      ]
     },
     "execution_count": 162,
     "metadata": {},
     "output_type": "execute_result"
    }
   ],
   "source": [
    "np.median(x)"
   ]
  },
  {
   "cell_type": "code",
   "execution_count": 163,
   "id": "e81d43b3-eb5d-466d-a6a1-4ff787960db0",
   "metadata": {},
   "outputs": [
    {
     "data": {
      "text/plain": [
       "4.0"
      ]
     },
     "execution_count": 163,
     "metadata": {},
     "output_type": "execute_result"
    }
   ],
   "source": [
    "np.median(y)"
   ]
  },
  {
   "cell_type": "code",
   "execution_count": 164,
   "id": "7da34f90-140b-4d50-b3c8-4c4229241ab5",
   "metadata": {},
   "outputs": [
    {
     "data": {
      "text/plain": [
       "4.0"
      ]
     },
     "execution_count": 164,
     "metadata": {},
     "output_type": "execute_result"
    }
   ],
   "source": [
    "np.median(z)"
   ]
  },
  {
   "cell_type": "code",
   "execution_count": 165,
   "id": "2ecb427c-957c-4baa-81fd-a6317521a911",
   "metadata": {},
   "outputs": [
    {
     "data": {
      "text/plain": [
       "4.0"
      ]
     },
     "execution_count": 165,
     "metadata": {},
     "output_type": "execute_result"
    }
   ],
   "source": [
    "z.median()"
   ]
  },
  {
   "cell_type": "code",
   "execution_count": 166,
   "id": "9c220e79-13ac-4577-b76a-ea41585b9ad8",
   "metadata": {},
   "outputs": [
    {
     "data": {
      "text/plain": [
       "4.0"
      ]
     },
     "execution_count": 166,
     "metadata": {},
     "output_type": "execute_result"
    }
   ],
   "source": [
    "z_with_nan.median()"
   ]
  },
  {
   "cell_type": "code",
   "execution_count": 167,
   "id": "6289e9ee-6222-4f1d-947b-af0b69ccc184",
   "metadata": {},
   "outputs": [
    {
     "name": "stdout",
     "output_type": "stream",
     "text": [
      "2.5 3 2\n"
     ]
    }
   ],
   "source": [
    "x_  = [1,2,3,4]\n",
    "print(\n",
    "    statistics.median(x_),\n",
    "    statistics.median_high(x_),\n",
    "    statistics.median_low(x_)\n",
    ")"
   ]
  },
  {
   "cell_type": "code",
   "execution_count": 168,
   "id": "c1abec33-1876-4fba-a297-f6c817171b1f",
   "metadata": {},
   "outputs": [
    {
     "data": {
      "text/plain": [
       "2"
      ]
     },
     "execution_count": 168,
     "metadata": {},
     "output_type": "execute_result"
    }
   ],
   "source": [
    "# MODE\n",
    "u = [2, 3, 2, 8, 12]\n",
    "max((u.count(item), item) for item in set(u))[1]"
   ]
  },
  {
   "cell_type": "code",
   "execution_count": 169,
   "id": "3e4e1e14-0a2e-46a3-a0a9-734dbeb2b5bd",
   "metadata": {},
   "outputs": [
    {
     "data": {
      "text/plain": [
       "2"
      ]
     },
     "execution_count": 169,
     "metadata": {},
     "output_type": "execute_result"
    }
   ],
   "source": [
    "statistics.mode(u)"
   ]
  },
  {
   "cell_type": "code",
   "execution_count": 170,
   "id": "aef7340a-182d-40a2-8d5a-138fa51193aa",
   "metadata": {},
   "outputs": [
    {
     "data": {
      "text/plain": [
       "ModeResult(mode=2, count=2)"
      ]
     },
     "execution_count": 170,
     "metadata": {},
     "output_type": "execute_result"
    }
   ],
   "source": [
    "scipy.stats.mode(u)"
   ]
  },
  {
   "cell_type": "code",
   "execution_count": 171,
   "id": "46896cc2-ffa6-49a0-a6cf-89d0769f7468",
   "metadata": {},
   "outputs": [
    {
     "data": {
      "text/plain": [
       "ModeResult(mode=2, count=2)"
      ]
     },
     "execution_count": 171,
     "metadata": {},
     "output_type": "execute_result"
    }
   ],
   "source": [
    "scipy.stats.mode(np.array(u))"
   ]
  },
  {
   "cell_type": "code",
   "execution_count": 172,
   "id": "4b893300-5c08-4afc-ae83-578ffc96a0a9",
   "metadata": {},
   "outputs": [
    {
     "data": {
      "text/plain": [
       "0    1\n",
       "1    2\n",
       "2    3\n",
       "dtype: int64"
      ]
     },
     "execution_count": 172,
     "metadata": {},
     "output_type": "execute_result"
    }
   ],
   "source": [
    "z = pd.Series([1,1,2,2,3,3,4,5,6])\n",
    "z.mode()"
   ]
  },
  {
   "cell_type": "code",
   "execution_count": 173,
   "id": "95353af8-9dc6-48d4-ace0-ecf0e578e569",
   "metadata": {},
   "outputs": [
    {
     "data": {
      "text/plain": [
       "123.2"
      ]
     },
     "execution_count": 173,
     "metadata": {},
     "output_type": "execute_result"
    }
   ],
   "source": [
    "# variance\n",
    "mean = sum(x) / len(x)\n",
    "sum((item - mean) ** 2 for item in x) / (len(x) - 1)"
   ]
  },
  {
   "cell_type": "code",
   "execution_count": 174,
   "id": "4d5ca928-5721-44fc-9505-4a6129b36649",
   "metadata": {},
   "outputs": [
    {
     "data": {
      "text/plain": [
       "123.2"
      ]
     },
     "execution_count": 174,
     "metadata": {},
     "output_type": "execute_result"
    }
   ],
   "source": [
    "statistics.variance(x)"
   ]
  },
  {
   "cell_type": "code",
   "execution_count": 175,
   "id": "6d344607-4ac4-456e-ac22-63c109bc5ba1",
   "metadata": {},
   "outputs": [
    {
     "data": {
      "text/plain": [
       "123.19999999999999"
      ]
     },
     "execution_count": 175,
     "metadata": {},
     "output_type": "execute_result"
    }
   ],
   "source": [
    "np.var(y, ddof=1)"
   ]
  },
  {
   "cell_type": "code",
   "execution_count": 176,
   "id": "9bfd39bc-3fef-424b-9fea-af783eecec3e",
   "metadata": {},
   "outputs": [
    {
     "data": {
      "text/plain": [
       "123.19999999999999"
      ]
     },
     "execution_count": 176,
     "metadata": {},
     "output_type": "execute_result"
    }
   ],
   "source": [
    "y.var(ddof=1)"
   ]
  },
  {
   "cell_type": "code",
   "execution_count": 177,
   "id": "362d2211-cca9-4a8f-a7fe-063fbc9a7c1e",
   "metadata": {},
   "outputs": [
    {
     "data": {
      "text/plain": [
       "123.2"
      ]
     },
     "execution_count": 177,
     "metadata": {},
     "output_type": "execute_result"
    }
   ],
   "source": [
    "z = pd.Series(x)\n",
    "z.var(ddof=1)"
   ]
  },
  {
   "cell_type": "code",
   "execution_count": 178,
   "id": "7f1b2a61-c305-41ea-acce-d61b42abd6b4",
   "metadata": {},
   "outputs": [
    {
     "data": {
      "text/plain": [
       "11.099549540409287"
      ]
     },
     "execution_count": 178,
     "metadata": {},
     "output_type": "execute_result"
    }
   ],
   "source": [
    "# std\n",
    "var ** 0.5"
   ]
  },
  {
   "cell_type": "code",
   "execution_count": 179,
   "id": "d36f514f-80d0-42fd-a32d-f58c2ba8d84e",
   "metadata": {},
   "outputs": [
    {
     "data": {
      "text/plain": [
       "11.099549540409287"
      ]
     },
     "execution_count": 179,
     "metadata": {},
     "output_type": "execute_result"
    }
   ],
   "source": [
    "statistics.stdev(x)"
   ]
  },
  {
   "cell_type": "code",
   "execution_count": 180,
   "id": "d8bffb61-2a60-4a6b-8af3-b6a4e30f1cef",
   "metadata": {},
   "outputs": [
    {
     "data": {
      "text/plain": [
       "11.099549540409285"
      ]
     },
     "execution_count": 180,
     "metadata": {},
     "output_type": "execute_result"
    }
   ],
   "source": [
    "np.std(y, ddof=1)"
   ]
  },
  {
   "cell_type": "code",
   "execution_count": 181,
   "id": "b36bb34f-7d20-4174-8d76-b72c75df2205",
   "metadata": {},
   "outputs": [
    {
     "data": {
      "text/plain": [
       "11.099549540409287"
      ]
     },
     "execution_count": 181,
     "metadata": {},
     "output_type": "execute_result"
    }
   ],
   "source": [
    "z.std(ddof=1)"
   ]
  },
  {
   "cell_type": "code",
   "execution_count": 182,
   "id": "cfbd9a30-a2a0-4610-b56f-b1b066046fdf",
   "metadata": {},
   "outputs": [
    {
     "data": {
      "text/plain": [
       "1.9470432273905924"
      ]
     },
     "execution_count": 182,
     "metadata": {},
     "output_type": "execute_result"
    }
   ],
   "source": [
    "# Skew\n",
    "z.skew()"
   ]
  },
  {
   "cell_type": "code",
   "execution_count": 183,
   "id": "c8e07db5-6456-44c7-9410-0fed4f30eea8",
   "metadata": {},
   "outputs": [
    {
     "data": {
      "text/plain": [
       "-0.7275218449350463"
      ]
     },
     "execution_count": 183,
     "metadata": {},
     "output_type": "execute_result"
    }
   ],
   "source": [
    "z_ = pd.Series([0, 1, 30, 40, 100, 100, 102, 99, 98, 97])\n",
    "z_.skew()"
   ]
  },
  {
   "cell_type": "code",
   "execution_count": 184,
   "id": "7e6e6f73-5057-446a-a492-edc998111be9",
   "metadata": {},
   "outputs": [
    {
     "data": {
      "text/plain": [
       "[-0.5, 8.0, 23.4]"
      ]
     },
     "execution_count": 184,
     "metadata": {},
     "output_type": "execute_result"
    }
   ],
   "source": [
    "# quantiles\n",
    "x = [-5.0, -1.1, 0.1, 2.0, 8.0, 12.8, 21.0, 25.8, 41.0]\n",
    "statistics.quantiles(x)"
   ]
  },
  {
   "cell_type": "code",
   "execution_count": 185,
   "id": "707b81c2-5c93-4697-987f-6f134a9c223e",
   "metadata": {},
   "outputs": [
    {
     "data": {
      "text/plain": [
       "[-0.5, 8.0, 23.4]"
      ]
     },
     "execution_count": 185,
     "metadata": {},
     "output_type": "execute_result"
    }
   ],
   "source": [
    "statistics.quantiles(x, n=4)"
   ]
  },
  {
   "cell_type": "code",
   "execution_count": 186,
   "id": "ae73b1fb-8320-48b8-ac78-2de0a3135791",
   "metadata": {},
   "outputs": [
    {
     "data": {
      "text/plain": [
       "-3.44"
      ]
     },
     "execution_count": 186,
     "metadata": {},
     "output_type": "execute_result"
    }
   ],
   "source": [
    "# percentile\n",
    "y = np.array(x)\n",
    "np.percentile(y, q=5)"
   ]
  },
  {
   "cell_type": "code",
   "execution_count": 187,
   "id": "7629d25b-59ea-4584-953f-e9e242d46c9d",
   "metadata": {},
   "outputs": [
    {
     "data": {
      "text/plain": [
       "array([ 0.1  , 28.84 , 34.92 , 39.784])"
      ]
     },
     "execution_count": 187,
     "metadata": {},
     "output_type": "execute_result"
    }
   ],
   "source": [
    "np.percentile(y, [25, 90, 95, 99])"
   ]
  },
  {
   "cell_type": "code",
   "execution_count": 188,
   "id": "82af8095-91b2-4c70-b42f-e8866d395ba1",
   "metadata": {},
   "outputs": [
    {
     "data": {
      "text/plain": [
       "46.0"
      ]
     },
     "execution_count": 188,
     "metadata": {},
     "output_type": "execute_result"
    }
   ],
   "source": [
    "# Range \n",
    "np.ptp(x)"
   ]
  },
  {
   "cell_type": "code",
   "execution_count": 189,
   "id": "d1885423-825d-4f51-b28d-5c1b39d1632d",
   "metadata": {},
   "outputs": [
    {
     "data": {
      "text/plain": [
       "46.0"
      ]
     },
     "execution_count": 189,
     "metadata": {},
     "output_type": "execute_result"
    }
   ],
   "source": [
    "y.max() - y.min()"
   ]
  },
  {
   "cell_type": "code",
   "execution_count": 190,
   "id": "1821e7fe-8f11-450e-b1a2-0dd189b74127",
   "metadata": {},
   "outputs": [
    {
     "data": {
      "text/plain": [
       "count     5.00000\n",
       "mean      8.70000\n",
       "std      11.09955\n",
       "min       1.00000\n",
       "25%       2.50000\n",
       "50%       4.00000\n",
       "75%       8.00000\n",
       "max      28.00000\n",
       "dtype: float64"
      ]
     },
     "execution_count": 190,
     "metadata": {},
     "output_type": "execute_result"
    }
   ],
   "source": [
    "# descriptive statistic\n",
    "z.describe()\n"
   ]
  },
  {
   "cell_type": "code",
   "execution_count": 191,
   "id": "a576cda0-a1f6-4ed9-8d91-e5cdac6a329d",
   "metadata": {},
   "outputs": [
    {
     "data": {
      "text/plain": [
       "0     8.0\n",
       "1     1.0\n",
       "2     2.5\n",
       "3     4.0\n",
       "4    28.0\n",
       "dtype: float64"
      ]
     },
     "execution_count": 191,
     "metadata": {},
     "output_type": "execute_result"
    }
   ],
   "source": [
    "z"
   ]
  },
  {
   "cell_type": "code",
   "execution_count": 192,
   "id": "3ba8525e-bfc6-44f9-b20a-6cbc860d6703",
   "metadata": {},
   "outputs": [
    {
     "data": {
      "text/plain": [
       "DescribeResult(nobs=5, minmax=(1.0, 28.0), mean=8.7, variance=123.19999999999999, skewness=1.9470432273905927, kurtosis=3.878019618875446)"
      ]
     },
     "execution_count": 192,
     "metadata": {},
     "output_type": "execute_result"
    }
   ],
   "source": [
    "scipy.stats.describe(z, ddof=1, bias=False)"
   ]
  },
  {
   "cell_type": "code",
   "execution_count": 193,
   "id": "fb4d6439-7d84-4359-9f8e-4dbec141bf02",
   "metadata": {},
   "outputs": [],
   "source": [
    "# Measures of Correlation Between Pairs of Data\n"
   ]
  },
  {
   "cell_type": "code",
   "execution_count": 194,
   "id": "f559fe26-93a6-499b-aa78-1f7cd81ce5ad",
   "metadata": {},
   "outputs": [],
   "source": [
    "x = np.array(list(range(-10, 20)))\n",
    "y = np.random.randint(100, size=30)"
   ]
  },
  {
   "cell_type": "code",
   "execution_count": 195,
   "id": "38e4b38d-52e9-4169-98e9-142623a0e50c",
   "metadata": {},
   "outputs": [],
   "source": [
    "x_s = pd.Series(x)\n",
    "y_s = pd.Series(y)"
   ]
  },
  {
   "cell_type": "code",
   "execution_count": 196,
   "id": "61c4e61e-7200-448c-b010-cc6d36d09ad5",
   "metadata": {},
   "outputs": [
    {
     "name": "stdout",
     "output_type": "stream",
     "text": [
      "-60.48275862068966\n"
     ]
    }
   ],
   "source": [
    "# covariance \n",
    "mean_x = x.mean()\n",
    "mean_y = y.mean()\n",
    "cov_xy = sum((x_ - mean_x) * (y_ - mean_y) for (x_, y_) in zip(x, y))/(len(x) - 1)\n",
    "print(cov_xy)"
   ]
  },
  {
   "cell_type": "code",
   "execution_count": 197,
   "id": "44d5a614-cb8f-4448-8fa9-8ac538c4f972",
   "metadata": {},
   "outputs": [
    {
     "data": {
      "text/plain": [
       "array([[ 77.5       , -60.48275862],\n",
       "       [-60.48275862, 861.84367816]])"
      ]
     },
     "execution_count": 197,
     "metadata": {},
     "output_type": "execute_result"
    }
   ],
   "source": [
    "cov_mat = np.cov(x, y)\n",
    "cov_mat"
   ]
  },
  {
   "cell_type": "code",
   "execution_count": 198,
   "id": "846cc2ab-867e-4c9d-a8da-3a4bbbb4abd3",
   "metadata": {},
   "outputs": [],
   "source": [
    "std_x = x.std(ddof=1)\n",
    "std_y = y.std(ddof=1)\n",
    "cov_xy = cov_mat[0, 1]\n"
   ]
  },
  {
   "cell_type": "code",
   "execution_count": 199,
   "id": "1f79ad14-ec81-4cce-b305-3a33d322e9af",
   "metadata": {},
   "outputs": [
    {
     "data": {
      "text/plain": [
       "-0.2340272825275896"
      ]
     },
     "execution_count": 199,
     "metadata": {},
     "output_type": "execute_result"
    }
   ],
   "source": [
    "r = cov_xy / (std_x * std_y)\n",
    "r"
   ]
  },
  {
   "cell_type": "code",
   "execution_count": 200,
   "id": "914b228a-6de7-4bae-9697-69afa5244cd2",
   "metadata": {},
   "outputs": [
    {
     "data": {
      "text/plain": [
       "LinregressResult(slope=-0.7804226918798667, intercept=51.64523544679273, rvalue=-0.2340272825275896, pvalue=0.21323224018124076, stderr=0.612707807639059, intercept_stderr=5.977173240147375)"
      ]
     },
     "execution_count": 200,
     "metadata": {},
     "output_type": "execute_result"
    }
   ],
   "source": [
    "scipy.stats.linregress(x, y)"
   ]
  },
  {
   "cell_type": "code",
   "execution_count": 201,
   "id": "caa84b26-047c-4cc4-a020-e8be41c42a4e",
   "metadata": {},
   "outputs": [
    {
     "data": {
      "text/plain": [
       "-0.2340272825275896"
      ]
     },
     "execution_count": 201,
     "metadata": {},
     "output_type": "execute_result"
    }
   ],
   "source": [
    "x_s.corr(y_s)"
   ]
  },
  {
   "cell_type": "code",
   "execution_count": 202,
   "id": "3459af8d-feea-4996-aedd-ebfa7e6b2993",
   "metadata": {},
   "outputs": [
    {
     "data": {
      "text/plain": [
       "-0.2340272825275896"
      ]
     },
     "execution_count": 202,
     "metadata": {},
     "output_type": "execute_result"
    }
   ],
   "source": [
    "y_s.corr(x_s)"
   ]
  },
  {
   "cell_type": "code",
   "execution_count": 204,
   "id": "fbb97f58-43fb-40b1-8593-9c55853e34f2",
   "metadata": {},
   "outputs": [],
   "source": [
    "# Visualisasi data \n",
    "# Box plot\n",
    "# Histogram\n",
    "# Pie chart\n",
    "# Bar chart\n",
    "# X Y plot\n",
    "# Heatmap"
   ]
  },
  {
   "cell_type": "code",
   "execution_count": 205,
   "id": "0de6174c-42fd-4d47-9e9c-e839d8abb761",
   "metadata": {},
   "outputs": [],
   "source": [
    "import matplotlib.pyplot as plt\n",
    "plt.style.use(\"ggplot\")"
   ]
  },
  {
   "cell_type": "code",
   "execution_count": 206,
   "id": "ca66f137-0293-44d3-84c7-42205c9699d6",
   "metadata": {},
   "outputs": [],
   "source": [
    "np.random.seed(seed=0)\n",
    "x, y, z = np.random.randn(1000), np.random.randn(100), np.random.randn(10)"
   ]
  },
  {
   "cell_type": "code",
   "execution_count": 211,
   "id": "fcd4bf0f-0355-40b4-8534-466b881f15fe",
   "metadata": {},
   "outputs": [
    {
     "data": {
      "image/png": "[encoded data removed]",
      "text/plain": [
       "<Figure size 640x480 with 1 Axes>"
      ]
     },
     "metadata": {},
     "output_type": "display_data"
    }
   ],
   "source": [
    "fig, ax = plt.subplots()\n",
    "ax.boxplot((x, y, z), \n",
    "           vert=False, \n",
    "           showmeans=True, \n",
    "           meanline=True, \n",
    "           labels=(\"x\",\"y\",\"z\"), \n",
    "           patch_artist=True, \n",
    "           medianprops={'linewidth': 2, 'color': 'purple'},\n",
    "           meanprops={'linewidth': 2, 'color': 'red'})\n",
    "plt.show()"
   ]
  },
  {
   "cell_type": "code",
   "execution_count": 219,
   "id": "9f6633b7-84b8-4db5-b8ce-ffee63d445c4",
   "metadata": {},
   "outputs": [
    {
     "name": "stdout",
     "output_type": "stream",
     "text": [
      "[  9  20  70 146 217 239 160  86  38  15] [-3.04614305 -2.46559324 -1.88504342 -1.3044936  -0.72394379 -0.14339397\n",
      "  0.43715585  1.01770566  1.59825548  2.1788053   2.75935511]\n"
     ]
    }
   ],
   "source": [
    "# Histogram \n",
    "hist, bin_edges = np.histogram(x, bins=10)\n",
    "print(hist, bin_edges)"
   ]
  },
  {
   "cell_type": "code",
   "execution_count": 229,
   "id": "3f3cd391-3aa8-47fc-8179-36f7a41a2a3b",
   "metadata": {},
   "outputs": [
    {
     "data": {
      "image/png": "[encoded data removed]",
      "text/plain": [
       "<Figure size 640x480 with 1 Axes>"
      ]
     },
     "metadata": {},
     "output_type": "display_data"
    }
   ],
   "source": [
    "fig, ax = plt.subplots()\n",
    "ax.hist(x, bin_edges, cumulative=False)\n",
    "ax.set_xlabel(\"x\")\n",
    "ax.set_ylabel(\"freq\")\n",
    "plt.show()"
   ]
  },
  {
   "cell_type": "code",
   "execution_count": 230,
   "id": "59a8e727-464e-402a-a751-98d07265b499",
   "metadata": {},
   "outputs": [
    {
     "data": {
      "image/png": "[encoded data removed]",
      "text/plain": [
       "<Figure size 640x480 with 1 Axes>"
      ]
     },
     "metadata": {},
     "output_type": "display_data"
    }
   ],
   "source": [
    "fig, ax = plt.subplots()\n",
    "ax.hist(x, bin_edges, cumulative=True)\n",
    "ax.set_xlabel(\"x\")\n",
    "ax.set_ylabel(\"freq\")\n",
    "plt.show()"
   ]
  },
  {
   "cell_type": "code",
   "execution_count": 227,
   "id": "78770b24-7066-4008-8880-1e4e8a641475",
   "metadata": {},
   "outputs": [
    {
     "data": {
      "image/png": "[encoded data removed]",
      "text/plain": [
       "<Figure size 640x480 with 1 Axes>"
      ]
     },
     "metadata": {},
     "output_type": "display_data"
    },
    {
     "name": "stdout",
     "output_type": "stream",
     "text": [
      "[ 7 15 14 20 23 13  5  2  0  1] [-1.81807763 -1.31917239 -0.82026715 -0.32136191  0.17754333  0.67644857\n",
      "  1.17535381  1.67425905  2.17316429  2.67206953  3.17097477]\n"
     ]
    }
   ],
   "source": [
    "hist, bins = np.histogram(y, bins=10)\n",
    "fig, ay = plt.subplots()\n",
    "ay.hist(y, bin_edges, cumulative=False)\n",
    "ay.set_xlabel(\"y\")\n",
    "ay.set_ylabel(\"freq\")\n",
    "plt.show()\n",
    "print(hist, bins)"
   ]
  }
 ],
 "metadata": {
  "kernelspec": {
   "display_name": "Python 3 (ipykernel)",
   "language": "python",
   "name": "python3"
  },
  "language_info": {
   "codemirror_mode": {
    "name": "ipython",
    "version": 3
   },
   "file_extension": ".py",
   "mimetype": "text/x-python",
   "name": "python",
   "nbconvert_exporter": "python",
   "pygments_lexer": "ipython3",
   "version": "3.12.4"
  }
 },
 "nbformat": 4,
 "nbformat_minor": 5
}
